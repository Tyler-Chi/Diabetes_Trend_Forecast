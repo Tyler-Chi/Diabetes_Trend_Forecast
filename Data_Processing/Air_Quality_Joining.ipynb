{
 "cells": [
  {
   "cell_type": "markdown",
   "id": "b697031e-035f-472f-b2ad-706e9f47f0f7",
   "metadata": {},
   "source": [
    "# Join the EPA County Air Quality Index (AQI) data"
   ]
  },
  {
   "cell_type": "code",
   "execution_count": 37,
   "id": "62a948cd-526f-4a94-8249-a03b9ddfed70",
   "metadata": {},
   "outputs": [],
   "source": [
    "import pandas as pd\n",
    "import swifter\n",
    "import numpy as np\n",
    "from operator import itemgetter\n",
    "import seaborn as sns\n",
    "import matplotlib.pyplot as plt\n",
    "sns.set_style(\"darkgrid\")\n",
    "from matplotlib.ticker import FuncFormatter\n",
    "%matplotlib inline"
   ]
  },
  {
   "cell_type": "code",
   "execution_count": 2,
   "id": "49b65500-0fcb-4c89-8fc6-108c803d236a",
   "metadata": {},
   "outputs": [],
   "source": [
    "training_data = pd.read_csv('../Datasets/training_data_full.csv')\n",
    "county_fips_data = pd.read_csv('../Datasets/state_and_county_fips_master.csv')\n",
    "# AQI data\n",
    "aqi_2016 = pd.read_csv('../Datasets/annual_aqi_by_county_2016.csv')\n",
    "aqi_2017 = pd.read_csv('../Datasets/annual_aqi_by_county_2017.csv')"
   ]
  },
  {
   "cell_type": "code",
   "execution_count": 3,
   "id": "b2a07156-3120-4060-aa8b-a58d1c1ead28",
   "metadata": {},
   "outputs": [],
   "source": [
    "county_fips_map = {}\n",
    "for index, row in county_fips_data.iterrows():\n",
    "    fips, county_name = row['fips'], row['name']\n",
    "    county_name = county_name.rsplit(' ', 1)[0]\n",
    "    county_fips_map[fips] = county_name"
   ]
  },
  {
   "cell_type": "code",
   "execution_count": 4,
   "id": "08264ffb-f1e5-4062-a768-8437aaa9d37c",
   "metadata": {},
   "outputs": [
    {
     "data": {
      "application/vnd.jupyter.widget-view+json": {
       "model_id": "be916313a4f5408794495d9ee87faee3",
       "version_major": 2,
       "version_minor": 0
      },
      "text/plain": [
       "Pandas Apply:   0%|          | 0/27119 [00:00<?, ?it/s]"
      ]
     },
     "metadata": {},
     "output_type": "display_data"
    }
   ],
   "source": [
    "training_data['CountyName'] = training_data['CountyFIPS'].swifter.apply(county_fips_map.get)"
   ]
  },
  {
   "cell_type": "markdown",
   "id": "7f7f4996-5af2-45ce-a262-5e3fb59f585e",
   "metadata": {},
   "source": [
    "# Aggregate both state and county level AQI levels\n",
    "This is needed because not all counties are represented in the EPA data,\\\n",
    "so will need to fall back to state level data"
   ]
  },
  {
   "cell_type": "code",
   "execution_count": 5,
   "id": "ec5221dc-14f9-4c26-a457-853d54b83cd5",
   "metadata": {},
   "outputs": [],
   "source": [
    "# need this to default to, just in case county \n",
    "def get_state_average_aqi(state_counties_data):\n",
    "    state = state_counties_data.iloc[0]['State']\n",
    "    average_aqi = np.mean(state_counties_data['Median AQI'])\n",
    "    return state, average_aqi"
   ]
  },
  {
   "cell_type": "code",
   "execution_count": 6,
   "id": "032be39d-9680-492e-a8f8-bdd8e4307a40",
   "metadata": {},
   "outputs": [],
   "source": [
    "state_aqi_2017 = dict(list(aqi_2017.groupby(['State']).apply(get_state_average_aqi)))\n",
    "state_aqi_2016 = dict(list(aqi_2016.groupby(['State']).apply(get_state_average_aqi)))"
   ]
  },
  {
   "cell_type": "code",
   "execution_count": 7,
   "id": "84055163-42dd-49d8-ba33-629968b3a4f5",
   "metadata": {},
   "outputs": [],
   "source": [
    "county_aqi_2017 = dict(zip(aqi_2017['County'], aqi_2017['Median AQI']))\n",
    "county_aqi_2016 = dict(zip(aqi_2016['County'], aqi_2016['Median AQI']))"
   ]
  },
  {
   "cell_type": "markdown",
   "id": "9bb73db2-48fd-40d9-b18b-6b120b1b3576",
   "metadata": {},
   "source": [
    "# Add the 2016 and 2017 data to the dataframe, prioritizing County level data"
   ]
  },
  {
   "cell_type": "code",
   "execution_count": 8,
   "id": "2bf6bf98-4ea3-49d8-823e-4bc10e7d3b99",
   "metadata": {},
   "outputs": [],
   "source": [
    "def get_average_aqi(row, state_aqi, county_aqi):\n",
    "    global county_data\n",
    "    global state_data\n",
    "    state, county_name = itemgetter('StateDesc', 'CountyName')(row)\n",
    "    if county_name in county_aqi:\n",
    "        county_data += 1\n",
    "        return county_aqi[county_name]\n",
    "    elif state in state_aqi:\n",
    "        state_data += 1\n",
    "        return state_aqi[state]\n",
    "    return None"
   ]
  },
  {
   "cell_type": "code",
   "execution_count": 9,
   "id": "399f925e-c898-4e35-89fe-9ab29fb9c3b9",
   "metadata": {},
   "outputs": [
    {
     "name": "stdout",
     "output_type": "stream",
     "text": [
      "county data usage: 26053\n",
      "state data usage: 821\n"
     ]
    }
   ],
   "source": [
    "county_data = 0\n",
    "state_data = 0\n",
    "training_data['AQI_2017'] = training_data.apply(lambda row: get_average_aqi(row, state_aqi_2017, county_aqi_2017), axis=1)\n",
    "print(f'county data usage: {county_data}')\n",
    "print(f'state data usage: {state_data}')"
   ]
  },
  {
   "cell_type": "code",
   "execution_count": 10,
   "id": "81d49f72-aefd-4d06-a086-e26e74eb52bc",
   "metadata": {},
   "outputs": [
    {
     "name": "stdout",
     "output_type": "stream",
     "text": [
      "county data usage: 26053\n",
      "state data usage: 821\n"
     ]
    }
   ],
   "source": [
    "county_data = 0\n",
    "state_data = 0\n",
    "training_data['AQI_2016'] = training_data.apply(lambda row: get_average_aqi(row, state_aqi_2016, county_aqi_2016), axis=1)\n",
    "print(f'county data usage: {county_data}')\n",
    "print(f'state data usage: {state_data}')"
   ]
  },
  {
   "cell_type": "markdown",
   "id": "95d7e4b4-fdf4-43a1-ab91-2100d08965cf",
   "metadata": {},
   "source": [
    "# Calculate AQI_trend (percentage AQI change from 2016 to 2017)"
   ]
  },
  {
   "cell_type": "code",
   "execution_count": 11,
   "id": "639d8473-7aa1-4b1b-8aaa-95c4dd4e9b48",
   "metadata": {},
   "outputs": [],
   "source": [
    "training_data['AQI_trend'] = 100 * (training_data['AQI_2017'] - training_data['AQI_2016']) / training_data['AQI_2016']"
   ]
  },
  {
   "cell_type": "markdown",
   "id": "4259a486-0ac6-4ae0-a8bf-68e8b0905c5a",
   "metadata": {},
   "source": [
    "# Check for outliers"
   ]
  },
  {
   "cell_type": "code",
   "execution_count": 12,
   "id": "d7667c23-7b2e-4f5f-a5a7-9c5a7f9dc00c",
   "metadata": {},
   "outputs": [
    {
     "data": {
      "text/plain": [
       "<AxesSubplot:xlabel='AQI_trend'>"
      ]
     },
     "execution_count": 12,
     "metadata": {},
     "output_type": "execute_result"
    },
    {
     "data": {
      "image/png": "[encoded data removed]",
      "text/plain": [
       "<Figure size 640x480 with 1 Axes>"
      ]
     },
     "metadata": {},
     "output_type": "display_data"
    }
   ],
   "source": [
    "sns.boxplot(x=training_data[\"AQI_trend\"])"
   ]
  },
  {
   "cell_type": "code",
   "execution_count": 13,
   "id": "fbb317f8-6438-462c-80d6-d7fc74569848",
   "metadata": {},
   "outputs": [],
   "source": [
    "training_data.loc[training_data['AQI_trend'] > 200, 'AQI_trend'] = 50"
   ]
  },
  {
   "cell_type": "code",
   "execution_count": 34,
   "id": "700849d7-f491-4227-8c0c-7a1f33fbcfac",
   "metadata": {},
   "outputs": [
    {
     "data": {
      "text/plain": [
       "<AxesSubplot:title={'center':'AQI trend distribution'}, xlabel='AQI_trend'>"
      ]
     },
     "execution_count": 34,
     "metadata": {},
     "output_type": "execute_result"
    },
    {
     "data": {
      "image/png": "[encoded data removed]",
      "text/plain": [
       "<Figure size 640x480 with 1 Axes>"
      ]
     },
     "metadata": {},
     "output_type": "display_data"
    }
   ],
   "source": [
    "plt.title('AQI trend distribution')\n",
    "sns.boxplot(x=training_data[\"AQI_trend\"])"
   ]
  },
  {
   "cell_type": "code",
   "execution_count": 44,
   "id": "e3e2e79e-4845-4bd8-b9a6-f04707d2d20d",
   "metadata": {},
   "outputs": [
    {
     "data": {
      "image/png": "[encoded data removed]",
      "text/plain": [
       "<Figure size 640x480 with 1 Axes>"
      ]
     },
     "metadata": {},
     "output_type": "display_data"
    }
   ],
   "source": [
    "plt.title('AQI 2017 distribution')\n",
    "ax = sns.boxplot(x=training_data[\"AQI_2017\"])"
   ]
  },
  {
   "cell_type": "markdown",
   "id": "2efe97af-ace3-4d46-8bba-472b89d99ad5",
   "metadata": {},
   "source": [
    "## Keep CountyName, AQI_2017, AQI_trend. Drop AQI_2016"
   ]
  },
  {
   "cell_type": "code",
   "execution_count": 15,
   "id": "7562bc67-1ae0-49ad-9167-4a34913136a9",
   "metadata": {},
   "outputs": [],
   "source": [
    "training_data.drop(columns=['AQI_2016'], inplace=True)"
   ]
  },
  {
   "cell_type": "code",
   "execution_count": 16,
   "id": "99415ba2-68ec-4f3b-9122-6de7ae4edcb8",
   "metadata": {},
   "outputs": [],
   "source": [
    "non_numerical_features = set([\n",
    "    'StateAbbr',\n",
    "    'StateDesc',\n",
    "    'CityName',\n",
    "    'CountyFIPS',\n",
    "    'TractFIPS',\n",
    "    'CountyName'\n",
    "])\n",
    "\n",
    "target_features = set([\n",
    "    'DIABETES_3Y_Change_Percentage'\n",
    "])\n",
    "\n",
    "numerical_features = sorted(list(\n",
    "    set(training_data.columns) - non_numerical_features - target_features\n",
    "))"
   ]
  },
  {
   "cell_type": "code",
   "execution_count": 17,
   "id": "0b337a13-b24b-4edd-bc20-1b776e019c5a",
   "metadata": {},
   "outputs": [],
   "source": [
    "column_order = list(non_numerical_features) + numerical_features + list(target_features)"
   ]
  },
  {
   "cell_type": "code",
   "execution_count": 23,
   "id": "18c4764e-9ad5-4a4b-bc3b-5985315adf96",
   "metadata": {},
   "outputs": [],
   "source": [
    "training_data = training_data[column_order]"
   ]
  },
  {
   "cell_type": "markdown",
   "id": "9134e447-178a-4c18-a35c-56aa6c055376",
   "metadata": {},
   "source": [
    "# Fill nulls with Median"
   ]
  },
  {
   "cell_type": "code",
   "execution_count": 27,
   "id": "3eb8a975-0005-4cca-8221-b2de2f8ce692",
   "metadata": {},
   "outputs": [],
   "source": [
    "training_data['AQI_2017'] = training_data['AQI_2017'].fillna(training_data['AQI_2017'].median())"
   ]
  },
  {
   "cell_type": "code",
   "execution_count": 28,
   "id": "6c092878-b810-425d-87e7-256fc961bb79",
   "metadata": {},
   "outputs": [],
   "source": [
    "training_data['AQI_trend'] = training_data['AQI_trend'].fillna(training_data['AQI_trend'].median())"
   ]
  },
  {
   "cell_type": "code",
   "execution_count": 30,
   "id": "a4a1d2c1-14e1-44ba-81e5-9a415df32712",
   "metadata": {},
   "outputs": [],
   "source": [
    "# save to CSV\n",
    "training_data.to_csv('../Datasets/training_data_with_aqi.csv', index=False)"
   ]
  },
  {
   "cell_type": "code",
   "execution_count": null,
   "id": "f7eb6868-9096-49bb-9b0a-b1fae6096077",
   "metadata": {},
   "outputs": [],
   "source": []
  }
 ],
 "metadata": {
  "kernelspec": {
   "display_name": "Python 3 (ipykernel)",
   "language": "python",
   "name": "python3"
  },
  "language_info": {
   "codemirror_mode": {
    "name": "ipython",
    "version": 3
   },
   "file_extension": ".py",
   "mimetype": "text/x-python",
   "name": "python",
   "nbconvert_exporter": "python",
   "pygments_lexer": "ipython3",
   "version": "3.8.10"
  }
 },
 "nbformat": 4,
 "nbformat_minor": 5
}
