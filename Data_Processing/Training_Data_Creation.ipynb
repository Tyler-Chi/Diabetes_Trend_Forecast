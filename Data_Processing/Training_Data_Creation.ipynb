{
 "cells": [
  {
   "cell_type": "markdown",
   "id": "abee984a-8cab-4f04-877a-886e28816fce",
   "metadata": {},
   "source": [
    "# Filter down the raw dataset to create the training dataset, with labels"
   ]
  },
  {
   "cell_type": "code",
   "execution_count": 1,
   "id": "dcc0abf6-ba18-44c0-bd03-7699392d798d",
   "metadata": {},
   "outputs": [],
   "source": [
    "import pandas as pd\n",
    "import swifter\n",
    "import numpy as np"
   ]
  },
  {
   "cell_type": "code",
   "execution_count": 2,
   "id": "628b065e-35d1-487d-ba22-b010c8aae1ba",
   "metadata": {},
   "outputs": [],
   "source": [
    "y2017_data = pd.read_csv(\"../Datasets/2017_data.csv\")\n",
    "y2020_data = pd.read_csv(\"../Datasets/2020_data.csv\")"
   ]
  },
  {
   "cell_type": "markdown",
   "id": "3001d22c-e9cf-42e1-aa17-4d797587b3de",
   "metadata": {},
   "source": [
    "### Aggregate 2017 data\n",
    "\n",
    "The data is originally split by both the census tract as well as the measurement (diabetes rate, obesity rate, etc)\\\n",
    "These rows should be aggregated into a single row, that contains several of those measurements"
   ]
  },
  {
   "cell_type": "code",
   "execution_count": 3,
   "id": "30cfb7d2-d9ea-417c-8620-a267bc4deec6",
   "metadata": {},
   "outputs": [],
   "source": [
    "measure_ids = list(y2017_data['MeasureId'].unique())"
   ]
  },
  {
   "cell_type": "markdown",
   "id": "7d6f6711-460b-4cc7-91e5-c444c5eb95b2",
   "metadata": {},
   "source": [
    "## MeasureId's with their associated descriptions, in the 2017 data"
   ]
  },
  {
   "cell_type": "code",
   "execution_count": 4,
   "id": "00d62302-cc8e-40f6-8ce6-cc636205570c",
   "metadata": {},
   "outputs": [
    {
     "data": {
      "text/plain": [
       "{'ARTHRITIS': 'Arthritis among adults aged >=18 Years',\n",
       " 'CSMOKING': 'Current smoking among adults aged >=18 Years',\n",
       " 'CHD': 'Coronary heart disease among adults aged >=18 Years',\n",
       " 'OBESITY': 'Obesity among adults aged >=18 Years',\n",
       " 'CHOLSCREEN': 'Cholesterol screening among adults aged >=18 Years',\n",
       " 'BINGE': 'Binge drinking among adults aged >=18 Years',\n",
       " 'COPD': 'Chronic obstructive pulmonary disease among adults aged >=18 Years',\n",
       " 'DIABETES': 'Diagnosed diabetes among adults aged >=18 Years',\n",
       " 'CASTHMA': 'Current asthma among adults aged >=18 Years',\n",
       " 'ACCESS2': 'Current lack of health insurance among adults aged 18–64 Years',\n",
       " 'KIDNEY': 'Chronic kidney disease among adults aged >=18 Years',\n",
       " 'STROKE': 'Stroke among adults aged >=18 Years',\n",
       " 'LPA': 'No leisure-time physical activity among adults aged >=18 Years',\n",
       " 'BPHIGH': 'High blood pressure among adults aged >=18 Years',\n",
       " 'CANCER': 'Cancer (excluding skin cancer) among adults aged >=18 Years',\n",
       " 'CHECKUP': 'Visits to doctor for routine checkup within the past Year among adults aged >=18 Years',\n",
       " 'PHLTH': 'Physical health not good for >=14 days among adults aged >=18 Years',\n",
       " 'MHLTH': 'Mental health not good for >=14 days among adults aged >=18 Years',\n",
       " 'HIGHCHOL': 'High cholesterol among adults aged >=18 Years who have been screened in the past 5 Years',\n",
       " 'BPMED': 'Taking medicine for high blood pressure control among adults aged >=18 Years with high blood pressure'}"
      ]
     },
     "execution_count": 4,
     "metadata": {},
     "output_type": "execute_result"
    }
   ],
   "source": [
    "dict(zip(y2017_data['MeasureId'], y2017_data['Measure']))"
   ]
  },
  {
   "cell_type": "markdown",
   "id": "f9b7556b-4c53-493b-aa5d-533e03c86f21",
   "metadata": {},
   "source": [
    "#### General location information. these should be the same across a single census tract"
   ]
  },
  {
   "cell_type": "code",
   "execution_count": 5,
   "id": "23fe89b4-4e2d-488e-b6e3-52cf208f3c77",
   "metadata": {},
   "outputs": [],
   "source": [
    "location_columns = [\n",
    "    'StateAbbr',\n",
    "    'StateDesc',\n",
    "    'CityName',\n",
    "    'CityFIPS',\n",
    "    'TractFIPS',\n",
    "]"
   ]
  },
  {
   "cell_type": "code",
   "execution_count": 6,
   "id": "d1bf3df2-9ccc-43dc-aac5-02bbea5920a2",
   "metadata": {},
   "outputs": [],
   "source": [
    "# takes the result of the groupby, and combine into a single row\n",
    "def aggregate_census_tract_data(census_tract_data):\n",
    "    new_row = {}\n",
    "\n",
    "    # add location information to new row\n",
    "    for location_column in location_columns:\n",
    "        new_row[location_column] = census_tract_data[location_column].values[0]\n",
    "    \n",
    "    # also get the 2017 population data. this can be used later for weighted averaging\n",
    "    new_row['Population_2017'] = census_tract_data['PopulationCount'].values[0]\n",
    "    \n",
    "    # each row represents a specific measurement from this census tract\n",
    "    for index, row in census_tract_data.iterrows():\n",
    "        measure_id = row['MeasureId']\n",
    "        measure_value = row['Data_Value']\n",
    "        new_row[f'{measure_id}_2017'] = measure_value\n",
    "    \n",
    "    return new_row"
   ]
  },
  {
   "cell_type": "code",
   "execution_count": 7,
   "id": "052cf87f-670f-4b2f-bdb7-fb12bc027d48",
   "metadata": {},
   "outputs": [],
   "source": [
    "row_list = list(y2017_data.groupby(['TractFIPS']).apply(aggregate_census_tract_data))"
   ]
  },
  {
   "cell_type": "code",
   "execution_count": 8,
   "id": "646110bb-3b58-4760-b6f7-ebf791c48c75",
   "metadata": {},
   "outputs": [],
   "source": [
    "training_data = pd.DataFrame(row_list)"
   ]
  },
  {
   "cell_type": "markdown",
   "id": "4f6aeab2-b760-4cc3-b942-ceb5fca579f2",
   "metadata": {},
   "source": [
    "# Now bring in the 2020 data, mainly looking at the diabetes rate in each census tract\n",
    "\n",
    "NOTE: In the 2020 dataset, LocationID is used instead of TractFIPS"
   ]
  },
  {
   "cell_type": "code",
   "execution_count": 9,
   "id": "751fe813-a184-4aac-beb2-30dcd077b6e9",
   "metadata": {},
   "outputs": [
    {
     "name": "stdout",
     "output_type": "stream",
     "text": [
      "(1055000300, 24.2)\n",
      "(1073000100, 19.1)\n",
      "(1073000500, 23.7)\n"
     ]
    }
   ],
   "source": [
    "diabetes_data_2020 = y2020_data.query('MeasureId == \"DIABETES\"')\n",
    "diabetes_rate_map = dict(zip(\n",
    "    diabetes_data_2020['LocationID'], # synonymous with TractFIPS\n",
    "    diabetes_data_2020['Data_Value']\n",
    "))\n",
    "\n",
    "# this is just a map of TractFIPS to 2020 diabetes rates\n",
    "[print(v) for i, v in enumerate(diabetes_rate_map.items()) if i < 3];"
   ]
  },
  {
   "cell_type": "code",
   "execution_count": 10,
   "id": "790b782e-44d1-4c05-ae2a-4ca77411b1d4",
   "metadata": {},
   "outputs": [
    {
     "data": {
      "application/vnd.jupyter.widget-view+json": {
       "model_id": "1f621de80cbd4248a2d9880f7df63916",
       "version_major": 2,
       "version_minor": 0
      },
      "text/plain": [
       "Pandas Apply:   0%|          | 0/27648 [00:00<?, ?it/s]"
      ]
     },
     "metadata": {},
     "output_type": "display_data"
    }
   ],
   "source": [
    "training_data['DIABETES_2020'] = training_data['TractFIPS'].swifter.apply(diabetes_rate_map.get)"
   ]
  },
  {
   "cell_type": "markdown",
   "id": "9149b032-2615-4086-8622-810c627a0888",
   "metadata": {},
   "source": [
    "### Some of the census tracts don't have the 2020 diabetes information, so will drop them,\n",
    "(don't want to impute the target prediction)"
   ]
  },
  {
   "cell_type": "code",
   "execution_count": 11,
   "id": "539430fe-2ccf-4f7f-94d4-c41340eff7ad",
   "metadata": {},
   "outputs": [
    {
     "name": "stdout",
     "output_type": "stream",
     "text": [
      "111 of the census tracts do not have 2020 diabetes rates\n"
     ]
    }
   ],
   "source": [
    "null_counts = training_data['DIABETES_2020'].isna().sum()\n",
    "print(f'{null_counts} of the census tracts do not have 2020 diabetes rates')"
   ]
  },
  {
   "cell_type": "code",
   "execution_count": 12,
   "id": "28d235d7-f695-4172-ae53-8b61eea8dc40",
   "metadata": {},
   "outputs": [],
   "source": [
    "training_data = training_data.query('DIABETES_2020.notnull()').copy()"
   ]
  },
  {
   "cell_type": "markdown",
   "id": "17ed22fc-bfed-447f-8c86-af563a1aac71",
   "metadata": {},
   "source": [
    "## Rearrange the columns (want 2017/2020 diabetes both on the far right)"
   ]
  },
  {
   "cell_type": "code",
   "execution_count": 13,
   "id": "1e55eaae-b2ee-4dac-a4fa-3550878bc091",
   "metadata": {},
   "outputs": [],
   "source": [
    "columns = list(training_data.columns)\n",
    "columns.remove('DIABETES_2017')\n",
    "columns.remove('DIABETES_2020')\n",
    "columns.append('DIABETES_2017')\n",
    "columns.append('DIABETES_2020')"
   ]
  },
  {
   "cell_type": "code",
   "execution_count": 14,
   "id": "d949645c-6d10-4bb8-8655-7a1bb26d8840",
   "metadata": {},
   "outputs": [],
   "source": [
    "training_data = training_data[columns]"
   ]
  },
  {
   "cell_type": "markdown",
   "id": "6f222484-1b3c-4c55-98cf-5bb23abb230c",
   "metadata": {},
   "source": [
    "## Finally add the diabetes_change_rate\n",
    "\n",
    "IE if a census tract in 2017 had 10% diabetes rate, and then had 15% diabetes rate in 2020\\\n",
    "then the diabetes_change_rate would be 0.5"
   ]
  },
  {
   "cell_type": "code",
   "execution_count": 15,
   "id": "9bed44da-0658-478b-93a9-d83de82b370f",
   "metadata": {},
   "outputs": [],
   "source": [
    "training_data['diabetes_change_rate'] =\\\n",
    "    (training_data['DIABETES_2020'] - training_data['DIABETES_2017']) / training_data['DIABETES_2017']"
   ]
  },
  {
   "cell_type": "markdown",
   "id": "c06cfeb3-cd23-4d24-b9f6-c9e98d831561",
   "metadata": {
    "tags": []
   },
   "source": [
    "# FIPS code re-formatting\n",
    "FIPS is how various government entities label areas. The data in raw csv format loses some information.\\\n",
    "IE 01125012502 becomes 1125012502.0\\\n",
    "Need to convert this back to string format, and parse out other codes:\\"
   ]
  },
  {
   "cell_type": "code",
   "execution_count": 16,
   "id": "cea905ff-8380-47fe-a700-69cbf662b996",
   "metadata": {},
   "outputs": [
    {
     "data": {
      "text/html": [
       "<div>\n",
       "<style scoped>\n",
       "    .dataframe tbody tr th:only-of-type {\n",
       "        vertical-align: middle;\n",
       "    }\n",
       "\n",
       "    .dataframe tbody tr th {\n",
       "        vertical-align: top;\n",
       "    }\n",
       "\n",
       "    .dataframe thead th {\n",
       "        text-align: right;\n",
       "    }\n",
       "</style>\n",
       "<table border=\"1\" class=\"dataframe\">\n",
       "  <thead>\n",
       "    <tr style=\"text-align: right;\">\n",
       "      <th></th>\n",
       "      <th>CityFIPS</th>\n",
       "      <th>TractFIPS</th>\n",
       "    </tr>\n",
       "  </thead>\n",
       "  <tbody>\n",
       "    <tr>\n",
       "      <th>0</th>\n",
       "      <td>107000.0</td>\n",
       "      <td>1.073000e+09</td>\n",
       "    </tr>\n",
       "    <tr>\n",
       "      <th>1</th>\n",
       "      <td>107000.0</td>\n",
       "      <td>1.073000e+09</td>\n",
       "    </tr>\n",
       "    <tr>\n",
       "      <th>2</th>\n",
       "      <td>107000.0</td>\n",
       "      <td>1.073000e+09</td>\n",
       "    </tr>\n",
       "  </tbody>\n",
       "</table>\n",
       "</div>"
      ],
      "text/plain": [
       "   CityFIPS     TractFIPS\n",
       "0  107000.0  1.073000e+09\n",
       "1  107000.0  1.073000e+09\n",
       "2  107000.0  1.073000e+09"
      ]
     },
     "execution_count": 16,
     "metadata": {},
     "output_type": "execute_result"
    }
   ],
   "source": [
    "# original format\n",
    "training_data[['CityFIPS', 'TractFIPS']].head(3)"
   ]
  },
  {
   "cell_type": "code",
   "execution_count": 17,
   "id": "7d685c6b-de73-4f80-b93e-c37f963077e9",
   "metadata": {},
   "outputs": [
    {
     "data": {
      "application/vnd.jupyter.widget-view+json": {
       "model_id": "e1ba6b493d3e40468e3af61be4f56900",
       "version_major": 2,
       "version_minor": 0
      },
      "text/plain": [
       "Pandas Apply:   0%|          | 0/27537 [00:00<?, ?it/s]"
      ]
     },
     "metadata": {},
     "output_type": "display_data"
    }
   ],
   "source": [
    "# reformat the TractFIPS, adding back '0' at the front if necessary\n",
    "def reformat_tract_fips(tract_fips):\n",
    "    str_form = str(tract_fips).split('.')[0]\n",
    "    return str_form.zfill(11) # zfill fills the left with 0's\n",
    "\n",
    "training_data['TractFIPS'] = training_data['TractFIPS'].swifter.apply(reformat_tract_fips)"
   ]
  },
  {
   "cell_type": "code",
   "execution_count": 18,
   "id": "55059b9e-d2c2-43cb-8a6c-154fa802b67b",
   "metadata": {},
   "outputs": [
    {
     "data": {
      "application/vnd.jupyter.widget-view+json": {
       "model_id": "f4adbdb9b2b0492392771ae68f8a603a",
       "version_major": 2,
       "version_minor": 0
      },
      "text/plain": [
       "Pandas Apply:   0%|          | 0/27537 [00:00<?, ?it/s]"
      ]
     },
     "metadata": {},
     "output_type": "display_data"
    }
   ],
   "source": [
    "def reformat_city_fips(city_fips):\n",
    "    str_form = str(city_fips).split('.')[0]\n",
    "    return str_form.zfill(7) # zfill fills the left with 0's\n",
    "training_data['CityFIPS'] = training_data['CityFIPS'].swifter.apply(reformat_city_fips)"
   ]
  },
  {
   "cell_type": "code",
   "execution_count": 19,
   "id": "108508bb-d750-4cfe-ae8b-8f40d21645f6",
   "metadata": {},
   "outputs": [
    {
     "data": {
      "text/html": [
       "<div>\n",
       "<style scoped>\n",
       "    .dataframe tbody tr th:only-of-type {\n",
       "        vertical-align: middle;\n",
       "    }\n",
       "\n",
       "    .dataframe tbody tr th {\n",
       "        vertical-align: top;\n",
       "    }\n",
       "\n",
       "    .dataframe thead th {\n",
       "        text-align: right;\n",
       "    }\n",
       "</style>\n",
       "<table border=\"1\" class=\"dataframe\">\n",
       "  <thead>\n",
       "    <tr style=\"text-align: right;\">\n",
       "      <th></th>\n",
       "      <th>CityFIPS</th>\n",
       "      <th>TractFIPS</th>\n",
       "    </tr>\n",
       "  </thead>\n",
       "  <tbody>\n",
       "    <tr>\n",
       "      <th>0</th>\n",
       "      <td>0107000</td>\n",
       "      <td>01073000100</td>\n",
       "    </tr>\n",
       "    <tr>\n",
       "      <th>1</th>\n",
       "      <td>0107000</td>\n",
       "      <td>01073000300</td>\n",
       "    </tr>\n",
       "    <tr>\n",
       "      <th>2</th>\n",
       "      <td>0107000</td>\n",
       "      <td>01073000400</td>\n",
       "    </tr>\n",
       "  </tbody>\n",
       "</table>\n",
       "</div>"
      ],
      "text/plain": [
       "  CityFIPS    TractFIPS\n",
       "0  0107000  01073000100\n",
       "1  0107000  01073000300\n",
       "2  0107000  01073000400"
      ]
     },
     "execution_count": 19,
     "metadata": {},
     "output_type": "execute_result"
    }
   ],
   "source": [
    "# original format\n",
    "training_data[['CityFIPS', 'TractFIPS']].head(3)"
   ]
  },
  {
   "cell_type": "markdown",
   "id": "abe90f9a-e235-40be-ae28-784bdf568c56",
   "metadata": {},
   "source": [
    "# FIPS code parsing\n",
    "\n",
    "Now that the FIPS code is back in the normal string form, can parse out some information\\\n",
    "According to www.census.gov, the TractFIPS has 3 parts:\\\n",
    "- State Code (+2)\n",
    "- County Code (+3)\n",
    "- Tract Code (+6)\n",
    "\n",
    "IE 01073000100 would become\n",
    "- State Code \"01\"\n",
    "- County Code \"01073\" (this will be used later to join with the poverty data)\n",
    "- Tract Code \"01073000100\""
   ]
  },
  {
   "cell_type": "code",
   "execution_count": 20,
   "id": "87b0a379-2390-4f37-9059-e462f5b4545f",
   "metadata": {},
   "outputs": [],
   "source": [
    "def get_county_fips(tract_fips):\n",
    "    return tract_fips[0:5]"
   ]
  },
  {
   "cell_type": "code",
   "execution_count": 21,
   "id": "b0781912-af35-4fbb-9e9e-0b267384e6ab",
   "metadata": {},
   "outputs": [
    {
     "data": {
      "application/vnd.jupyter.widget-view+json": {
       "model_id": "bc18eb15bd2b41f199c8503ad033b393",
       "version_major": 2,
       "version_minor": 0
      },
      "text/plain": [
       "Pandas Apply:   0%|          | 0/27537 [00:00<?, ?it/s]"
      ]
     },
     "metadata": {},
     "output_type": "display_data"
    }
   ],
   "source": [
    "training_data['CountyFIPS'] = training_data['TractFIPS'].swifter.apply(get_county_fips)"
   ]
  },
  {
   "cell_type": "code",
   "execution_count": 22,
   "id": "2d548719-f73e-4dd9-b22d-624d82188dc9",
   "metadata": {},
   "outputs": [
    {
     "data": {
      "text/html": [
       "<div>\n",
       "<style scoped>\n",
       "    .dataframe tbody tr th:only-of-type {\n",
       "        vertical-align: middle;\n",
       "    }\n",
       "\n",
       "    .dataframe tbody tr th {\n",
       "        vertical-align: top;\n",
       "    }\n",
       "\n",
       "    .dataframe thead th {\n",
       "        text-align: right;\n",
       "    }\n",
       "</style>\n",
       "<table border=\"1\" class=\"dataframe\">\n",
       "  <thead>\n",
       "    <tr style=\"text-align: right;\">\n",
       "      <th></th>\n",
       "      <th>TractFIPS</th>\n",
       "      <th>CountyFIPS</th>\n",
       "    </tr>\n",
       "  </thead>\n",
       "  <tbody>\n",
       "    <tr>\n",
       "      <th>0</th>\n",
       "      <td>01073000100</td>\n",
       "      <td>01073</td>\n",
       "    </tr>\n",
       "    <tr>\n",
       "      <th>1</th>\n",
       "      <td>01073000300</td>\n",
       "      <td>01073</td>\n",
       "    </tr>\n",
       "    <tr>\n",
       "      <th>2</th>\n",
       "      <td>01073000400</td>\n",
       "      <td>01073</td>\n",
       "    </tr>\n",
       "  </tbody>\n",
       "</table>\n",
       "</div>"
      ],
      "text/plain": [
       "     TractFIPS CountyFIPS\n",
       "0  01073000100      01073\n",
       "1  01073000300      01073\n",
       "2  01073000400      01073"
      ]
     },
     "execution_count": 22,
     "metadata": {},
     "output_type": "execute_result"
    }
   ],
   "source": [
    "training_data[['TractFIPS', 'CountyFIPS']].head(3)"
   ]
  },
  {
   "cell_type": "code",
   "execution_count": 23,
   "id": "d5852f92-a35c-41d7-bf16-6dd6077df36d",
   "metadata": {},
   "outputs": [],
   "source": [
    "county_fips_col = training_data.pop('CountyFIPS')\n",
    "training_data.insert(3, 'CountyFIPS', county_fips_col)"
   ]
  },
  {
   "cell_type": "code",
   "execution_count": 24,
   "id": "a8d227a4-658c-4aeb-86c9-acc87f20a387",
   "metadata": {},
   "outputs": [
    {
     "data": {
      "text/html": [
       "<div>\n",
       "<style scoped>\n",
       "    .dataframe tbody tr th:only-of-type {\n",
       "        vertical-align: middle;\n",
       "    }\n",
       "\n",
       "    .dataframe tbody tr th {\n",
       "        vertical-align: top;\n",
       "    }\n",
       "\n",
       "    .dataframe thead th {\n",
       "        text-align: right;\n",
       "    }\n",
       "</style>\n",
       "<table border=\"1\" class=\"dataframe\">\n",
       "  <thead>\n",
       "    <tr style=\"text-align: right;\">\n",
       "      <th></th>\n",
       "      <th>StateAbbr</th>\n",
       "      <th>StateDesc</th>\n",
       "      <th>CityName</th>\n",
       "      <th>CountyFIPS</th>\n",
       "      <th>CityFIPS</th>\n",
       "      <th>TractFIPS</th>\n",
       "      <th>Population_2017</th>\n",
       "      <th>COPD_2017</th>\n",
       "      <th>STROKE_2017</th>\n",
       "      <th>LPA_2017</th>\n",
       "      <th>...</th>\n",
       "      <th>HIGHCHOL_2017</th>\n",
       "      <th>CSMOKING_2017</th>\n",
       "      <th>BINGE_2017</th>\n",
       "      <th>ARTHRITIS_2017</th>\n",
       "      <th>ACCESS2_2017</th>\n",
       "      <th>BPHIGH_2017</th>\n",
       "      <th>PHLTH_2017</th>\n",
       "      <th>DIABETES_2017</th>\n",
       "      <th>DIABETES_2020</th>\n",
       "      <th>diabetes_change_rate</th>\n",
       "    </tr>\n",
       "  </thead>\n",
       "  <tbody>\n",
       "    <tr>\n",
       "      <th>0</th>\n",
       "      <td>AL</td>\n",
       "      <td>Alabama</td>\n",
       "      <td>Birmingham</td>\n",
       "      <td>01073</td>\n",
       "      <td>0107000</td>\n",
       "      <td>01073000100</td>\n",
       "      <td>3042</td>\n",
       "      <td>11.3</td>\n",
       "      <td>5.5</td>\n",
       "      <td>44.0</td>\n",
       "      <td>...</td>\n",
       "      <td>35.3</td>\n",
       "      <td>27.9</td>\n",
       "      <td>10.3</td>\n",
       "      <td>31.2</td>\n",
       "      <td>24.4</td>\n",
       "      <td>47.7</td>\n",
       "      <td>20.5</td>\n",
       "      <td>17.4</td>\n",
       "      <td>19.1</td>\n",
       "      <td>0.097701</td>\n",
       "    </tr>\n",
       "    <tr>\n",
       "      <th>1</th>\n",
       "      <td>AL</td>\n",
       "      <td>Alabama</td>\n",
       "      <td>Birmingham</td>\n",
       "      <td>01073</td>\n",
       "      <td>0107000</td>\n",
       "      <td>01073000300</td>\n",
       "      <td>2735</td>\n",
       "      <td>11.9</td>\n",
       "      <td>6.1</td>\n",
       "      <td>47.5</td>\n",
       "      <td>...</td>\n",
       "      <td>36.8</td>\n",
       "      <td>29.3</td>\n",
       "      <td>10.5</td>\n",
       "      <td>30.5</td>\n",
       "      <td>30.4</td>\n",
       "      <td>48.2</td>\n",
       "      <td>22.2</td>\n",
       "      <td>19.8</td>\n",
       "      <td>21.8</td>\n",
       "      <td>0.101010</td>\n",
       "    </tr>\n",
       "    <tr>\n",
       "      <th>2</th>\n",
       "      <td>AL</td>\n",
       "      <td>Alabama</td>\n",
       "      <td>Birmingham</td>\n",
       "      <td>01073</td>\n",
       "      <td>0107000</td>\n",
       "      <td>01073000400</td>\n",
       "      <td>3338</td>\n",
       "      <td>10.5</td>\n",
       "      <td>5.6</td>\n",
       "      <td>43.0</td>\n",
       "      <td>...</td>\n",
       "      <td>35.6</td>\n",
       "      <td>25.9</td>\n",
       "      <td>10.4</td>\n",
       "      <td>31.5</td>\n",
       "      <td>24.7</td>\n",
       "      <td>49.1</td>\n",
       "      <td>19.4</td>\n",
       "      <td>18.4</td>\n",
       "      <td>18.9</td>\n",
       "      <td>0.027174</td>\n",
       "    </tr>\n",
       "  </tbody>\n",
       "</table>\n",
       "<p>3 rows × 29 columns</p>\n",
       "</div>"
      ],
      "text/plain": [
       "  StateAbbr StateDesc    CityName CountyFIPS CityFIPS    TractFIPS  \\\n",
       "0        AL   Alabama  Birmingham      01073  0107000  01073000100   \n",
       "1        AL   Alabama  Birmingham      01073  0107000  01073000300   \n",
       "2        AL   Alabama  Birmingham      01073  0107000  01073000400   \n",
       "\n",
       "   Population_2017  COPD_2017  STROKE_2017  LPA_2017  ...  HIGHCHOL_2017  \\\n",
       "0             3042       11.3          5.5      44.0  ...           35.3   \n",
       "1             2735       11.9          6.1      47.5  ...           36.8   \n",
       "2             3338       10.5          5.6      43.0  ...           35.6   \n",
       "\n",
       "   CSMOKING_2017  BINGE_2017  ARTHRITIS_2017  ACCESS2_2017  BPHIGH_2017  \\\n",
       "0           27.9        10.3            31.2          24.4         47.7   \n",
       "1           29.3        10.5            30.5          30.4         48.2   \n",
       "2           25.9        10.4            31.5          24.7         49.1   \n",
       "\n",
       "   PHLTH_2017  DIABETES_2017  DIABETES_2020  diabetes_change_rate  \n",
       "0        20.5           17.4           19.1              0.097701  \n",
       "1        22.2           19.8           21.8              0.101010  \n",
       "2        19.4           18.4           18.9              0.027174  \n",
       "\n",
       "[3 rows x 29 columns]"
      ]
     },
     "execution_count": 24,
     "metadata": {},
     "output_type": "execute_result"
    }
   ],
   "source": [
    "training_data.head(3)"
   ]
  },
  {
   "cell_type": "markdown",
   "id": "9b70cf35-aaef-4a00-a125-540e17425d23",
   "metadata": {},
   "source": [
    "# Check for nulls in the target variable (diabetes_change_rate)"
   ]
  },
  {
   "cell_type": "code",
   "execution_count": 25,
   "id": "e3d123da-beef-4673-b4b9-665301651ec8",
   "metadata": {},
   "outputs": [
    {
     "data": {
      "text/plain": [
       "27537"
      ]
     },
     "execution_count": 25,
     "metadata": {},
     "output_type": "execute_result"
    }
   ],
   "source": [
    "# original number of rows\n",
    "training_data.shape[0] "
   ]
  },
  {
   "cell_type": "code",
   "execution_count": 26,
   "id": "93c8e031-9231-4887-9239-177d146e0ffa",
   "metadata": {},
   "outputs": [
    {
     "data": {
      "text/plain": [
       "26878"
      ]
     },
     "execution_count": 26,
     "metadata": {},
     "output_type": "execute_result"
    }
   ],
   "source": [
    "# keep only rows with the target variable\n",
    "training_data = training_data.dropna()\n",
    "training_data.shape[0]"
   ]
  },
  {
   "cell_type": "code",
   "execution_count": 27,
   "id": "33516184-e938-42ad-a2fc-2216802cabe9",
   "metadata": {},
   "outputs": [],
   "source": [
    "# lost about 700 rows after dropping nulls, should be fine\n",
    "training_data.to_csv('../Datasets/training_data.csv', index=False)"
   ]
  }
 ],
 "metadata": {
  "kernelspec": {
   "display_name": "Python 3 (ipykernel)",
   "language": "python",
   "name": "python3"
  },
  "language_info": {
   "codemirror_mode": {
    "name": "ipython",
    "version": 3
   },
   "file_extension": ".py",
   "mimetype": "text/x-python",
   "name": "python",
   "nbconvert_exporter": "python",
   "pygments_lexer": "ipython3",
   "version": "3.8.10"
  }
 },
 "nbformat": 4,
 "nbformat_minor": 5
}
