{
 "cells": [
  {
   "cell_type": "markdown",
   "id": "dc94f54f-70fb-42db-a0f0-c808abd5442c",
   "metadata": {},
   "source": [
    "# Join the poverty data, which is at the county level"
   ]
  },
  {
   "cell_type": "code",
   "execution_count": 1,
   "id": "c03eeda6-f3fe-43c5-8f11-01e7ffc7285e",
   "metadata": {},
   "outputs": [],
   "source": [
    "import pandas as pd"
   ]
  },
  {
   "cell_type": "code",
   "execution_count": 2,
   "id": "988ef35e-2c2d-41f8-a678-1ed6d7826f02",
   "metadata": {},
   "outputs": [],
   "source": [
    "unemployment_data = pd.read_excel('../Datasets/Unemployment.xlsx', skiprows=4) # first 4 rows are irrelevant"
   ]
  },
  {
   "cell_type": "markdown",
   "id": "960e6238-6aa2-4aa4-9929-ce1d48f6386b",
   "metadata": {},
   "source": [
    "## The FIPS_code in the unemployment data is the 5-digit county fips code\n",
    "It needs to be reformatted, as FIPS code with leading 0's were truncated"
   ]
  },
  {
   "cell_type": "code",
   "execution_count": 3,
   "id": "b3029473-e512-432e-a5b4-a3c8ac4a4940",
   "metadata": {},
   "outputs": [
    {
     "data": {
      "text/html": [
       "<div>\n",
       "<style scoped>\n",
       "    .dataframe tbody tr th:only-of-type {\n",
       "        vertical-align: middle;\n",
       "    }\n",
       "\n",
       "    .dataframe tbody tr th {\n",
       "        vertical-align: top;\n",
       "    }\n",
       "\n",
       "    .dataframe thead th {\n",
       "        text-align: right;\n",
       "    }\n",
       "</style>\n",
       "<table border=\"1\" class=\"dataframe\">\n",
       "  <thead>\n",
       "    <tr style=\"text-align: right;\">\n",
       "      <th></th>\n",
       "      <th>FIPS_code</th>\n",
       "      <th>State</th>\n",
       "      <th>Area_name</th>\n",
       "    </tr>\n",
       "  </thead>\n",
       "  <tbody>\n",
       "    <tr>\n",
       "      <th>0</th>\n",
       "      <td>0</td>\n",
       "      <td>US</td>\n",
       "      <td>United States</td>\n",
       "    </tr>\n",
       "    <tr>\n",
       "      <th>1</th>\n",
       "      <td>1000</td>\n",
       "      <td>AL</td>\n",
       "      <td>Alabama</td>\n",
       "    </tr>\n",
       "    <tr>\n",
       "      <th>2</th>\n",
       "      <td>1001</td>\n",
       "      <td>AL</td>\n",
       "      <td>Autauga County, AL</td>\n",
       "    </tr>\n",
       "    <tr>\n",
       "      <th>3</th>\n",
       "      <td>1003</td>\n",
       "      <td>AL</td>\n",
       "      <td>Baldwin County, AL</td>\n",
       "    </tr>\n",
       "    <tr>\n",
       "      <th>4</th>\n",
       "      <td>1005</td>\n",
       "      <td>AL</td>\n",
       "      <td>Barbour County, AL</td>\n",
       "    </tr>\n",
       "  </tbody>\n",
       "</table>\n",
       "</div>"
      ],
      "text/plain": [
       "   FIPS_code State           Area_name\n",
       "0          0    US       United States\n",
       "1       1000    AL             Alabama\n",
       "2       1001    AL  Autauga County, AL\n",
       "3       1003    AL  Baldwin County, AL\n",
       "4       1005    AL  Barbour County, AL"
      ]
     },
     "execution_count": 3,
     "metadata": {},
     "output_type": "execute_result"
    }
   ],
   "source": [
    "unemployment_data[['FIPS_code', 'State', 'Area_name']].head(5)"
   ]
  },
  {
   "cell_type": "code",
   "execution_count": 4,
   "id": "f1a5416a-6a93-44ed-9166-17bccf37de2d",
   "metadata": {},
   "outputs": [
    {
     "data": {
      "text/html": [
       "<div>\n",
       "<style scoped>\n",
       "    .dataframe tbody tr th:only-of-type {\n",
       "        vertical-align: middle;\n",
       "    }\n",
       "\n",
       "    .dataframe tbody tr th {\n",
       "        vertical-align: top;\n",
       "    }\n",
       "\n",
       "    .dataframe thead th {\n",
       "        text-align: right;\n",
       "    }\n",
       "</style>\n",
       "<table border=\"1\" class=\"dataframe\">\n",
       "  <thead>\n",
       "    <tr style=\"text-align: right;\">\n",
       "      <th></th>\n",
       "      <th>FIPS_code</th>\n",
       "      <th>State</th>\n",
       "      <th>Area_name</th>\n",
       "    </tr>\n",
       "  </thead>\n",
       "  <tbody>\n",
       "    <tr>\n",
       "      <th>1</th>\n",
       "      <td>1000</td>\n",
       "      <td>AL</td>\n",
       "      <td>Alabama</td>\n",
       "    </tr>\n",
       "    <tr>\n",
       "      <th>2</th>\n",
       "      <td>1001</td>\n",
       "      <td>AL</td>\n",
       "      <td>Autauga County, AL</td>\n",
       "    </tr>\n",
       "    <tr>\n",
       "      <th>3</th>\n",
       "      <td>1003</td>\n",
       "      <td>AL</td>\n",
       "      <td>Baldwin County, AL</td>\n",
       "    </tr>\n",
       "    <tr>\n",
       "      <th>4</th>\n",
       "      <td>1005</td>\n",
       "      <td>AL</td>\n",
       "      <td>Barbour County, AL</td>\n",
       "    </tr>\n",
       "    <tr>\n",
       "      <th>5</th>\n",
       "      <td>1007</td>\n",
       "      <td>AL</td>\n",
       "      <td>Bibb County, AL</td>\n",
       "    </tr>\n",
       "  </tbody>\n",
       "</table>\n",
       "</div>"
      ],
      "text/plain": [
       "   FIPS_code State           Area_name\n",
       "1       1000    AL             Alabama\n",
       "2       1001    AL  Autauga County, AL\n",
       "3       1003    AL  Baldwin County, AL\n",
       "4       1005    AL  Barbour County, AL\n",
       "5       1007    AL     Bibb County, AL"
      ]
     },
     "execution_count": 4,
     "metadata": {},
     "output_type": "execute_result"
    }
   ],
   "source": [
    "# need to get rid of the state-level columns. \n",
    "unemployment_data.drop(0, inplace=True)\n",
    "unemployment_data[['FIPS_code', 'State', 'Area_name']].head(5)"
   ]
  },
  {
   "cell_type": "markdown",
   "id": "63914d20-4624-4c57-8744-6ff1d5e4655a",
   "metadata": {},
   "source": [
    "# Reformat FIPS_code and rename as \"CountyFIPS\""
   ]
  },
  {
   "cell_type": "code",
   "execution_count": 5,
   "id": "603659a2-d75c-4178-a9a6-24699d59d397",
   "metadata": {},
   "outputs": [],
   "source": [
    "unemployment_data['FIPS_code'] = unemployment_data['FIPS_code'].astype(str).str.pad(width=5, side='left', fillchar='0')"
   ]
  },
  {
   "cell_type": "code",
   "execution_count": 6,
   "id": "fbb6d858-ad57-421f-a5a1-6aae53891755",
   "metadata": {},
   "outputs": [
    {
     "data": {
      "text/html": [
       "<div>\n",
       "<style scoped>\n",
       "    .dataframe tbody tr th:only-of-type {\n",
       "        vertical-align: middle;\n",
       "    }\n",
       "\n",
       "    .dataframe tbody tr th {\n",
       "        vertical-align: top;\n",
       "    }\n",
       "\n",
       "    .dataframe thead th {\n",
       "        text-align: right;\n",
       "    }\n",
       "</style>\n",
       "<table border=\"1\" class=\"dataframe\">\n",
       "  <thead>\n",
       "    <tr style=\"text-align: right;\">\n",
       "      <th></th>\n",
       "      <th>FIPS_code</th>\n",
       "      <th>State</th>\n",
       "      <th>Area_name</th>\n",
       "    </tr>\n",
       "  </thead>\n",
       "  <tbody>\n",
       "    <tr>\n",
       "      <th>1</th>\n",
       "      <td>01000</td>\n",
       "      <td>AL</td>\n",
       "      <td>Alabama</td>\n",
       "    </tr>\n",
       "    <tr>\n",
       "      <th>2</th>\n",
       "      <td>01001</td>\n",
       "      <td>AL</td>\n",
       "      <td>Autauga County, AL</td>\n",
       "    </tr>\n",
       "    <tr>\n",
       "      <th>3</th>\n",
       "      <td>01003</td>\n",
       "      <td>AL</td>\n",
       "      <td>Baldwin County, AL</td>\n",
       "    </tr>\n",
       "    <tr>\n",
       "      <th>4</th>\n",
       "      <td>01005</td>\n",
       "      <td>AL</td>\n",
       "      <td>Barbour County, AL</td>\n",
       "    </tr>\n",
       "    <tr>\n",
       "      <th>5</th>\n",
       "      <td>01007</td>\n",
       "      <td>AL</td>\n",
       "      <td>Bibb County, AL</td>\n",
       "    </tr>\n",
       "  </tbody>\n",
       "</table>\n",
       "</div>"
      ],
      "text/plain": [
       "  FIPS_code State           Area_name\n",
       "1     01000    AL             Alabama\n",
       "2     01001    AL  Autauga County, AL\n",
       "3     01003    AL  Baldwin County, AL\n",
       "4     01005    AL  Barbour County, AL\n",
       "5     01007    AL     Bibb County, AL"
      ]
     },
     "execution_count": 6,
     "metadata": {},
     "output_type": "execute_result"
    }
   ],
   "source": [
    "unemployment_data[['FIPS_code', 'State', 'Area_name']].head(5)"
   ]
  },
  {
   "cell_type": "code",
   "execution_count": 7,
   "id": "1e7260cd-3bcc-40fc-ac49-c6e2f9406757",
   "metadata": {},
   "outputs": [],
   "source": [
    "unemployment_data.rename(columns={'FIPS_code': 'CountyFIPS'}, inplace=True)"
   ]
  },
  {
   "cell_type": "markdown",
   "id": "b0ef612a-2381-4a8b-9a2d-d50acd3545c4",
   "metadata": {},
   "source": [
    "# Check the county overlap with the training data"
   ]
  },
  {
   "cell_type": "code",
   "execution_count": 8,
   "id": "164b0064-a396-4e87-a103-10a399f9ab4a",
   "metadata": {},
   "outputs": [],
   "source": [
    "# need to make sure these columns get read as strings\n",
    "fips_columns = [\n",
    "    'CountyFIPS',\n",
    "    'CityFIPS',\n",
    "    'TractFIPS'\n",
    "]\n",
    "dtypes_map = {x: 'str' for x in fips_columns}\n",
    "training_data = pd.read_csv('../Datasets/joined_health_data.csv', dtype=dtypes_map)"
   ]
  },
  {
   "cell_type": "code",
   "execution_count": 9,
   "id": "686a2e87-917e-4b38-baf7-d32f70e958a1",
   "metadata": {},
   "outputs": [],
   "source": [
    "unemployment_data_counties = set(unemployment_data['CountyFIPS'])\n",
    "training_data_counties = set(training_data['CountyFIPS'])"
   ]
  },
  {
   "cell_type": "code",
   "execution_count": 10,
   "id": "f3f66146-e671-4709-948f-32a3870444f1",
   "metadata": {},
   "outputs": [
    {
     "name": "stdout",
     "output_type": "stream",
     "text": [
      "All of the counties in the training data are accounted for in the unemployment data\n"
     ]
    }
   ],
   "source": [
    "assert len(training_data_counties.intersection(unemployment_data_counties)) ==\\\n",
    "        len(training_data_counties)\n",
    "print('All of the counties in the training data are accounted for in the unemployment data')"
   ]
  },
  {
   "cell_type": "markdown",
   "id": "ab0d0911-8055-4a33-90f7-4dac8cdaac21",
   "metadata": {},
   "source": [
    "# Engineer some columns into the unemployment dataset, and then join to the training dataset"
   ]
  },
  {
   "cell_type": "code",
   "execution_count": 11,
   "id": "07e5a615-1098-4c68-89b3-b109ddd5ae6d",
   "metadata": {},
   "outputs": [],
   "source": [
    "# only keep these columns\n",
    "unemployment_data = unemployment_data[[\n",
    "    'CountyFIPS',\n",
    "    'Unemployment_rate_2016',\n",
    "    'Unemployment_rate_2017'\n",
    "]]"
   ]
  },
  {
   "cell_type": "code",
   "execution_count": 12,
   "id": "2cdcd16b-dcc5-4819-8cf1-d7c90596f614",
   "metadata": {},
   "outputs": [],
   "source": [
    "unemployment_data['Unemployment_trend'] =\\\n",
    "    (unemployment_data['Unemployment_rate_2017'] - unemployment_data['Unemployment_rate_2016']) / unemployment_data['Unemployment_rate_2016']"
   ]
  },
  {
   "cell_type": "code",
   "execution_count": 13,
   "id": "84be5845-f090-4655-a1f9-86b0c9a88e78",
   "metadata": {},
   "outputs": [
    {
     "data": {
      "text/html": [
       "<div>\n",
       "<style scoped>\n",
       "    .dataframe tbody tr th:only-of-type {\n",
       "        vertical-align: middle;\n",
       "    }\n",
       "\n",
       "    .dataframe tbody tr th {\n",
       "        vertical-align: top;\n",
       "    }\n",
       "\n",
       "    .dataframe thead th {\n",
       "        text-align: right;\n",
       "    }\n",
       "</style>\n",
       "<table border=\"1\" class=\"dataframe\">\n",
       "  <thead>\n",
       "    <tr style=\"text-align: right;\">\n",
       "      <th></th>\n",
       "      <th>Unemployment_rate_2017</th>\n",
       "      <th>Unemployment_trend</th>\n",
       "    </tr>\n",
       "    <tr>\n",
       "      <th>CountyFIPS</th>\n",
       "      <th></th>\n",
       "      <th></th>\n",
       "    </tr>\n",
       "  </thead>\n",
       "  <tbody>\n",
       "    <tr>\n",
       "      <th>01000</th>\n",
       "      <td>4.5</td>\n",
       "      <td>-0.237288</td>\n",
       "    </tr>\n",
       "    <tr>\n",
       "      <th>01001</th>\n",
       "      <td>4.0</td>\n",
       "      <td>-0.215686</td>\n",
       "    </tr>\n",
       "    <tr>\n",
       "      <th>01003</th>\n",
       "      <td>4.2</td>\n",
       "      <td>-0.222222</td>\n",
       "    </tr>\n",
       "  </tbody>\n",
       "</table>\n",
       "</div>"
      ],
      "text/plain": [
       "            Unemployment_rate_2017  Unemployment_trend\n",
       "CountyFIPS                                            \n",
       "01000                          4.5           -0.237288\n",
       "01001                          4.0           -0.215686\n",
       "01003                          4.2           -0.222222"
      ]
     },
     "execution_count": 13,
     "metadata": {},
     "output_type": "execute_result"
    }
   ],
   "source": [
    "unemployment_data = unemployment_data.set_index('CountyFIPS') # set as index for join\n",
    "unemployment_data = unemployment_data.drop(columns=['Unemployment_rate_2016'])\n",
    "unemployment_data.head(3)"
   ]
  },
  {
   "cell_type": "code",
   "execution_count": 14,
   "id": "9368af6e-8fef-4fd7-bcdf-88ce82f5df35",
   "metadata": {},
   "outputs": [
    {
     "data": {
      "text/plain": [
       "27119"
      ]
     },
     "execution_count": 14,
     "metadata": {},
     "output_type": "execute_result"
    }
   ],
   "source": [
    "training_data.shape[0]"
   ]
  },
  {
   "cell_type": "code",
   "execution_count": 15,
   "id": "f5b97374-e325-42f7-b48b-8a702b842962",
   "metadata": {},
   "outputs": [],
   "source": [
    "training_data = training_data.join(unemployment_data, on='CountyFIPS') "
   ]
  },
  {
   "cell_type": "code",
   "execution_count": 16,
   "id": "6c9d9168-dec8-47e6-97e9-f774e9c893ac",
   "metadata": {},
   "outputs": [],
   "source": [
    "new_column_names = unemployment_data.columns\n",
    "for new_column_name in new_column_names:\n",
    "    col = training_data.pop(new_column_name)\n",
    "    training_data.insert(6, new_column_name, col)"
   ]
  },
  {
   "cell_type": "code",
   "execution_count": 17,
   "id": "33cba1fc-af04-4497-8e8f-b0da299eaeeb",
   "metadata": {},
   "outputs": [
    {
     "data": {
      "text/html": [
       "<div>\n",
       "<style scoped>\n",
       "    .dataframe tbody tr th:only-of-type {\n",
       "        vertical-align: middle;\n",
       "    }\n",
       "\n",
       "    .dataframe tbody tr th {\n",
       "        vertical-align: top;\n",
       "    }\n",
       "\n",
       "    .dataframe thead th {\n",
       "        text-align: right;\n",
       "    }\n",
       "</style>\n",
       "<table border=\"1\" class=\"dataframe\">\n",
       "  <thead>\n",
       "    <tr style=\"text-align: right;\">\n",
       "      <th></th>\n",
       "      <th>StateAbbr</th>\n",
       "      <th>StateDesc</th>\n",
       "      <th>CityName</th>\n",
       "      <th>CountyFIPS</th>\n",
       "      <th>TractFIPS</th>\n",
       "      <th>BPMED_2017</th>\n",
       "      <th>Unemployment_trend</th>\n",
       "      <th>Unemployment_rate_2017</th>\n",
       "      <th>BPMED_trend</th>\n",
       "      <th>CHOLSCREEN_2017</th>\n",
       "      <th>...</th>\n",
       "      <th>BPHIGH_trend</th>\n",
       "      <th>STROKE_2017</th>\n",
       "      <th>STROKE_trend</th>\n",
       "      <th>KIDNEY_2017</th>\n",
       "      <th>KIDNEY_trend</th>\n",
       "      <th>MHLTH_2017</th>\n",
       "      <th>MHLTH_trend</th>\n",
       "      <th>COPD_2017</th>\n",
       "      <th>COPD_trend</th>\n",
       "      <th>diabetes_change_rate_2020</th>\n",
       "    </tr>\n",
       "  </thead>\n",
       "  <tbody>\n",
       "    <tr>\n",
       "      <th>0</th>\n",
       "      <td>AL</td>\n",
       "      <td>Alabama</td>\n",
       "      <td>Birmingham</td>\n",
       "      <td>01073</td>\n",
       "      <td>01073000100</td>\n",
       "      <td>77.8</td>\n",
       "      <td>-0.22807</td>\n",
       "      <td>4.4</td>\n",
       "      <td>-0.027500</td>\n",
       "      <td>78.6</td>\n",
       "      <td>...</td>\n",
       "      <td>0.032468</td>\n",
       "      <td>5.5</td>\n",
       "      <td>-0.017857</td>\n",
       "      <td>4.3</td>\n",
       "      <td>0.023810</td>\n",
       "      <td>20.5</td>\n",
       "      <td>0.102151</td>\n",
       "      <td>11.3</td>\n",
       "      <td>0.036697</td>\n",
       "      <td>0.097701</td>\n",
       "    </tr>\n",
       "    <tr>\n",
       "      <th>1</th>\n",
       "      <td>AL</td>\n",
       "      <td>Alabama</td>\n",
       "      <td>Birmingham</td>\n",
       "      <td>01073</td>\n",
       "      <td>01073000300</td>\n",
       "      <td>78.5</td>\n",
       "      <td>-0.22807</td>\n",
       "      <td>4.4</td>\n",
       "      <td>-0.022416</td>\n",
       "      <td>76.0</td>\n",
       "      <td>...</td>\n",
       "      <td>0.057018</td>\n",
       "      <td>6.1</td>\n",
       "      <td>0.033898</td>\n",
       "      <td>4.6</td>\n",
       "      <td>0.069767</td>\n",
       "      <td>21.2</td>\n",
       "      <td>0.152174</td>\n",
       "      <td>11.9</td>\n",
       "      <td>0.101852</td>\n",
       "      <td>0.101010</td>\n",
       "    </tr>\n",
       "    <tr>\n",
       "      <th>2</th>\n",
       "      <td>AL</td>\n",
       "      <td>Alabama</td>\n",
       "      <td>Birmingham</td>\n",
       "      <td>01073</td>\n",
       "      <td>01073000400</td>\n",
       "      <td>79.4</td>\n",
       "      <td>-0.22807</td>\n",
       "      <td>4.4</td>\n",
       "      <td>-0.031707</td>\n",
       "      <td>80.2</td>\n",
       "      <td>...</td>\n",
       "      <td>-0.019960</td>\n",
       "      <td>5.6</td>\n",
       "      <td>-0.017544</td>\n",
       "      <td>4.2</td>\n",
       "      <td>0.000000</td>\n",
       "      <td>18.8</td>\n",
       "      <td>0.074286</td>\n",
       "      <td>10.5</td>\n",
       "      <td>0.019417</td>\n",
       "      <td>0.027174</td>\n",
       "    </tr>\n",
       "  </tbody>\n",
       "</table>\n",
       "<p>3 rows × 48 columns</p>\n",
       "</div>"
      ],
      "text/plain": [
       "  StateAbbr StateDesc    CityName CountyFIPS    TractFIPS  BPMED_2017  \\\n",
       "0        AL   Alabama  Birmingham      01073  01073000100        77.8   \n",
       "1        AL   Alabama  Birmingham      01073  01073000300        78.5   \n",
       "2        AL   Alabama  Birmingham      01073  01073000400        79.4   \n",
       "\n",
       "   Unemployment_trend  Unemployment_rate_2017  BPMED_trend  CHOLSCREEN_2017  \\\n",
       "0            -0.22807                     4.4    -0.027500             78.6   \n",
       "1            -0.22807                     4.4    -0.022416             76.0   \n",
       "2            -0.22807                     4.4    -0.031707             80.2   \n",
       "\n",
       "   ...  BPHIGH_trend  STROKE_2017  STROKE_trend  KIDNEY_2017  KIDNEY_trend  \\\n",
       "0  ...      0.032468          5.5     -0.017857          4.3      0.023810   \n",
       "1  ...      0.057018          6.1      0.033898          4.6      0.069767   \n",
       "2  ...     -0.019960          5.6     -0.017544          4.2      0.000000   \n",
       "\n",
       "   MHLTH_2017  MHLTH_trend  COPD_2017  COPD_trend  diabetes_change_rate_2020  \n",
       "0        20.5     0.102151       11.3    0.036697                   0.097701  \n",
       "1        21.2     0.152174       11.9    0.101852                   0.101010  \n",
       "2        18.8     0.074286       10.5    0.019417                   0.027174  \n",
       "\n",
       "[3 rows x 48 columns]"
      ]
     },
     "execution_count": 17,
     "metadata": {},
     "output_type": "execute_result"
    }
   ],
   "source": [
    "training_data.head(3)"
   ]
  },
  {
   "cell_type": "code",
   "execution_count": 18,
   "id": "c0da9a24-a54d-4602-9244-116e30a61d5a",
   "metadata": {},
   "outputs": [],
   "source": [
    "training_data.to_csv('../Datasets/training_data_full.csv', index=False)"
   ]
  }
 ],
 "metadata": {
  "kernelspec": {
   "display_name": "Python 3 (ipykernel)",
   "language": "python",
   "name": "python3"
  },
  "language_info": {
   "codemirror_mode": {
    "name": "ipython",
    "version": 3
   },
   "file_extension": ".py",
   "mimetype": "text/x-python",
   "name": "python",
   "nbconvert_exporter": "python",
   "pygments_lexer": "ipython3",
   "version": "3.8.10"
  }
 },
 "nbformat": 4,
 "nbformat_minor": 5
}
