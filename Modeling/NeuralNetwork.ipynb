{
 "cells": [
  {
   "cell_type": "markdown",
   "id": "c31dab0e-984d-49ce-8acf-3e370c23392b",
   "metadata": {},
   "source": [
    "# Neural Network Performance Analysis, using hyperparameters found thru Grid Search"
   ]
  },
  {
   "cell_type": "code",
   "execution_count": null,
   "id": "b1caa125-138c-4dba-9d08-1d2dbe948e02",
   "metadata": {},
   "outputs": [],
   "source": [
    "import tensorflow as tf\n",
    "import random\n",
    "import numpy as np\n",
    "from sklearn.model_selection import train_test_split\n",
    "import pandas as pd\n",
    "import seaborn as sns\n",
    "import warnings\n",
    "from sklearn.metrics import r2_score\n",
    "import matplotlib.pyplot as plt\n",
    "from keras.callbacks import EarlyStopping\n",
    "tf.get_logger().setLevel('INFO')\n",
    "tf.autograph.set_verbosity(0)\n",
    "import os\n",
    "os.environ['TF_CPP_MIN_LOG_LEVEL'] = '3'\n",
    "import warnings\n",
    "warnings.filterwarnings('ignore')"
   ]
  },
  {
   "cell_type": "code",
   "execution_count": 2,
   "id": "973aa849-25e1-407e-8965-f0f12453e6e1",
   "metadata": {},
   "outputs": [],
   "source": [
    "training_data = pd.read_csv('../Datasets/training_data_full.csv')"
   ]
  },
  {
   "cell_type": "code",
   "execution_count": 3,
   "id": "7e3151cc-84e4-4c63-bab6-6fbca362e217",
   "metadata": {},
   "outputs": [],
   "source": [
    "non_numerical_features = set([\n",
    "    'StateAbbr',\n",
    "    'StateDesc',\n",
    "    'CityName',\n",
    "    'CountyFIPS',\n",
    "    'TractFIPS'\n",
    "])\n",
    "\n",
    "target_features = set([\n",
    "    'DIABETES_3Y_Change_Percentage'\n",
    "])\n",
    "\n",
    "numerical_features = list(\n",
    "    set(training_data.columns) - non_numerical_features - target_features\n",
    ")\n",
    "\n",
    "features = training_data[numerical_features]\n",
    "labels = training_data['DIABETES_3Y_Change_Percentage']"
   ]
  },
  {
   "cell_type": "code",
   "execution_count": 4,
   "id": "25990713-dd69-4a3b-8501-7da130f4699b",
   "metadata": {},
   "outputs": [],
   "source": [
    "%run -i Cross_Val_Util.ipynb"
   ]
  },
  {
   "cell_type": "code",
   "execution_count": 5,
   "id": "b3b8c850-bb60-4df4-9910-48740980964a",
   "metadata": {},
   "outputs": [],
   "source": [
    "def build_model(normalizer):\n",
    "    model = tf.keras.Sequential([\n",
    "        normalizer,\n",
    "        tf.keras.layers.Dense(50, activation='relu'),\n",
    "        tf.keras.layers.Dense(25, activation='relu'),\n",
    "        tf.keras.layers.Dense(5, activation='relu'),\n",
    "        tf.keras.layers.Dense(1, activation='linear')\n",
    "    ])\n",
    "\n",
    "    model.compile(\n",
    "        optimizer=\"adam\",\n",
    "        loss=\"mean_squared_error\"\n",
    "    )\n",
    "    return model"
   ]
  },
  {
   "cell_type": "code",
   "execution_count": 6,
   "id": "5b1a3f80-c0ab-4bf1-b0bd-62224ff8c248",
   "metadata": {},
   "outputs": [],
   "source": [
    "fit_params = {\n",
    "    'batch_size': 16,\n",
    "    'epochs': 50,\n",
    "    'callbacks': [EarlyStopping(monitor='val_loss', patience=3)],\n",
    "    'verbose': 0\n",
    "}"
   ]
  },
  {
   "cell_type": "code",
   "execution_count": 7,
   "id": "a8bedf1f-0c9a-4975-8986-38e4202fb0ed",
   "metadata": {},
   "outputs": [
    {
     "name": "stderr",
     "output_type": "stream",
     "text": [
      "100%|██████████████████████████████████████████████████████████████████████████████████████████████████████████████████| 5/5 [12:26<00:00, 149.21s/it]\n"
     ]
    }
   ],
   "source": [
    "r2_scores = cv_tf_nn(build_model, features, labels, fit_params=fit_params, cv=5)"
   ]
  },
  {
   "cell_type": "code",
   "execution_count": 9,
   "id": "d3b7c130-1a73-4259-bc38-d0df8c0c58c4",
   "metadata": {},
   "outputs": [
    {
     "data": {
      "text/plain": [
       "0.2455022222190344"
      ]
     },
     "execution_count": 9,
     "metadata": {},
     "output_type": "execute_result"
    }
   ],
   "source": [
    "np.mean(r2_scores)"
   ]
  }
 ],
 "metadata": {
  "kernelspec": {
   "display_name": "Python 3 (ipykernel)",
   "language": "python",
   "name": "python3"
  },
  "language_info": {
   "codemirror_mode": {
    "name": "ipython",
    "version": 3
   },
   "file_extension": ".py",
   "mimetype": "text/x-python",
   "name": "python",
   "nbconvert_exporter": "python",
   "pygments_lexer": "ipython3",
   "version": "3.8.10"
  }
 },
 "nbformat": 4,
 "nbformat_minor": 5
}
