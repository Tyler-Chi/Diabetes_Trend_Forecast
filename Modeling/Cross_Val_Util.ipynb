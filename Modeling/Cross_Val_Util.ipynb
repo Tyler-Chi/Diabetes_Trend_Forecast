{
 "cells": [
  {
   "cell_type": "markdown",
   "id": "5b387120-05a1-4cf2-ab65-505d5a0287e7",
   "metadata": {},
   "source": [
    "# Essentially cross_val_score equivalent for tensorflow neural network\n",
    "\n",
    "### takes model generator, X, Y, fit_params, and cv count"
   ]
  },
  {
   "cell_type": "code",
   "execution_count": 1,
   "id": "5b1edb39-6d75-4a42-8a03-af1ad84f2b0c",
   "metadata": {},
   "outputs": [
    {
     "name": "stderr",
     "output_type": "stream",
     "text": [
      "2023-02-28 22:18:16.398762: I tensorflow/core/platform/cpu_feature_guard.cc:193] This TensorFlow binary is optimized with oneAPI Deep Neural Network Library (oneDNN) to use the following CPU instructions in performance-critical operations:  AVX2 AVX512F AVX512_VNNI FMA\n",
      "To enable them in other operations, rebuild TensorFlow with the appropriate compiler flags.\n",
      "2023-02-28 22:18:16.491604: I tensorflow/core/util/port.cc:104] oneDNN custom operations are on. You may see slightly different numerical results due to floating-point round-off errors from different computation orders. To turn them off, set the environment variable `TF_ENABLE_ONEDNN_OPTS=0`.\n",
      "2023-02-28 22:18:16.977244: W tensorflow/compiler/xla/stream_executor/platform/default/dso_loader.cc:64] Could not load dynamic library 'libnvinfer.so.7'; dlerror: libnvinfer.so.7: cannot open shared object file: No such file or directory; LD_LIBRARY_PATH: :/home/tychi/miniconda3/lib/\n",
      "2023-02-28 22:18:16.977325: W tensorflow/compiler/xla/stream_executor/platform/default/dso_loader.cc:64] Could not load dynamic library 'libnvinfer_plugin.so.7'; dlerror: libnvinfer_plugin.so.7: cannot open shared object file: No such file or directory; LD_LIBRARY_PATH: :/home/tychi/miniconda3/lib/\n",
      "2023-02-28 22:18:16.977331: W tensorflow/compiler/tf2tensorrt/utils/py_utils.cc:38] TF-TRT Warning: Cannot dlopen some TensorRT libraries. If you would like to use Nvidia GPU with TensorRT, please make sure the missing libraries mentioned above are installed properly.\n"
     ]
    }
   ],
   "source": [
    "import numpy as np\n",
    "import pandas as pd\n",
    "import random\n",
    "from keras.callbacks import EarlyStopping\n",
    "%run -i ./Model_Eval.ipynb\n",
    "import tensorflow as tf\n",
    "tf.get_logger().setLevel('INFO')\n",
    "tf.autograph.set_verbosity(0)\n",
    "import warnings\n",
    "from tqdm import tqdm\n",
    "warnings.filterwarnings('ignore')\n",
    "from sklearn.metrics import r2_score\n",
    "from sklearn.utils import shuffle\n",
    "import os\n",
    "os.environ['TF_CPP_MIN_LOG_LEVEL'] = '3'  # or any {'0', '1', '2'}"
   ]
  },
  {
   "cell_type": "code",
   "execution_count": 2,
   "id": "c8ba08d3-1b50-4b26-8baa-1ae35bfd4c7a",
   "metadata": {},
   "outputs": [],
   "source": [
    "def cv_tf_nn(model_generator, X, Y, fit_params={}, cv=5):\n",
    "    tqdm._instances.clear()\n",
    "\n",
    "    assert set(X.index) == set(Y.index)\n",
    "    full_index = shuffle(list(X.index))\n",
    "\n",
    "    validation_index_splits = np.array_split(full_index, cv)\n",
    "    r2_scores = []\n",
    "\n",
    "    for validation_index in tqdm(validation_index_splits):\n",
    "        tf.keras.backend.clear_session()\n",
    "        train_index = shuffle(\n",
    "            list(set(full_index) - set(validation_index))\n",
    "        )\n",
    "\n",
    "        X_train, Y_train = X.loc[train_index], Y.loc[train_index]\n",
    "        X_val, Y_val = X.loc[validation_index], Y.loc[validation_index]\n",
    "        \n",
    "        normalizer = tf.keras.layers.Normalization(axis=-1)\n",
    "        normalizer.adapt(X_train)\n",
    "\n",
    "        model = model_generator(normalizer)\n",
    "\n",
    "        model.fit(\n",
    "            X_train,\n",
    "            Y_train,\n",
    "            validation_data=(X_val, Y_val),\n",
    "            **fit_params\n",
    "        )\n",
    "\n",
    "        # get validation r2_scores\n",
    "        val_predictions = model.predict(X_val, verbose=0)\n",
    "        r2_scores.append(\n",
    "            r2_score(Y_val, val_predictions)\n",
    "        )\n",
    "    return r2_scores"
   ]
  }
 ],
 "metadata": {
  "kernelspec": {
   "display_name": "Python 3 (ipykernel)",
   "language": "python",
   "name": "python3"
  },
  "language_info": {
   "codemirror_mode": {
    "name": "ipython",
    "version": 3
   },
   "file_extension": ".py",
   "mimetype": "text/x-python",
   "name": "python",
   "nbconvert_exporter": "python",
   "pygments_lexer": "ipython3",
   "version": "3.8.10"
  }
 },
 "nbformat": 4,
 "nbformat_minor": 5
}
