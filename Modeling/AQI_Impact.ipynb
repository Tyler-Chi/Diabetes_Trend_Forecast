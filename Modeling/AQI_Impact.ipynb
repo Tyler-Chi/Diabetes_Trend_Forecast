{
 "cells": [
  {
   "cell_type": "markdown",
   "id": "99ecd63a-d9a8-40d6-88c4-5c98c17f025d",
   "metadata": {},
   "source": [
    "# Check for the impact of AQI on model performance\n",
    "\n",
    "Run the models with and without the two new AQI features, see how performance changes."
   ]
  },
  {
   "cell_type": "code",
   "execution_count": 1,
   "id": "037d25e6-3665-4d77-bafa-82de9955d67f",
   "metadata": {},
   "outputs": [
    {
     "name": "stderr",
     "output_type": "stream",
     "text": [
      "2023-02-28 22:19:34.475107: I tensorflow/core/platform/cpu_feature_guard.cc:193] This TensorFlow binary is optimized with oneAPI Deep Neural Network Library (oneDNN) to use the following CPU instructions in performance-critical operations:  AVX2 AVX512F AVX512_VNNI FMA\n",
      "To enable them in other operations, rebuild TensorFlow with the appropriate compiler flags.\n",
      "2023-02-28 22:19:34.576472: I tensorflow/core/util/port.cc:104] oneDNN custom operations are on. You may see slightly different numerical results due to floating-point round-off errors from different computation orders. To turn them off, set the environment variable `TF_ENABLE_ONEDNN_OPTS=0`.\n",
      "2023-02-28 22:19:35.180381: W tensorflow/compiler/xla/stream_executor/platform/default/dso_loader.cc:64] Could not load dynamic library 'libnvinfer.so.7'; dlerror: libnvinfer.so.7: cannot open shared object file: No such file or directory; LD_LIBRARY_PATH: :/home/tychi/miniconda3/lib/\n",
      "2023-02-28 22:19:35.180497: W tensorflow/compiler/xla/stream_executor/platform/default/dso_loader.cc:64] Could not load dynamic library 'libnvinfer_plugin.so.7'; dlerror: libnvinfer_plugin.so.7: cannot open shared object file: No such file or directory; LD_LIBRARY_PATH: :/home/tychi/miniconda3/lib/\n",
      "2023-02-28 22:19:35.180504: W tensorflow/compiler/tf2tensorrt/utils/py_utils.cc:38] TF-TRT Warning: Cannot dlopen some TensorRT libraries. If you would like to use Nvidia GPU with TensorRT, please make sure the missing libraries mentioned above are installed properly.\n"
     ]
    }
   ],
   "source": [
    "import pandas\n",
    "from sklearn.ensemble import RandomForestRegressor\n",
    "import seaborn as sns\n",
    "import matplotlib.pyplot as plt\n",
    "from sklearn.model_selection import train_test_split\n",
    "from sklearn.model_selection import cross_val_score\n",
    "import numpy as np\n",
    "from xgboost import XGBRegressor\n",
    "import tensorflow as tf\n",
    "%run -i ./Model_Eval.ipynb\n",
    "from keras.callbacks import EarlyStopping\n",
    "tf.get_logger().setLevel('INFO')\n",
    "tf.autograph.set_verbosity(0)\n",
    "import warnings\n",
    "warnings.filterwarnings('ignore')"
   ]
  },
  {
   "cell_type": "code",
   "execution_count": 2,
   "id": "62eb40d6-5eca-46e5-be7c-44bbb7d03581",
   "metadata": {},
   "outputs": [],
   "source": [
    "training_data = pd.read_csv('../Datasets/training_data_with_aqi.csv').sample(frac=1)"
   ]
  },
  {
   "cell_type": "markdown",
   "id": "5bb937f9-0d96-4b1b-8e7d-fbac44f3fc0d",
   "metadata": {},
   "source": [
    "# Check performance with AQI"
   ]
  },
  {
   "cell_type": "code",
   "execution_count": 3,
   "id": "cbe210a3-373d-418d-a8a7-3a0f5f9f04fe",
   "metadata": {},
   "outputs": [],
   "source": [
    "# import from Model_Eval.ipynb\n",
    "numerical_features = get_numerical_features(training_data)\n",
    "\n",
    "X = training_data[numerical_features]\n",
    "Y = training_data['DIABETES_3Y_Change_Percentage']\n",
    "\n",
    "X_train, X_test, Y_train, Y_test = train_test_split(X, Y, test_size = 0.2, random_state = 42)"
   ]
  },
  {
   "cell_type": "code",
   "execution_count": 4,
   "id": "9364e87f-b0cd-4440-9b6e-94869c4b90ff",
   "metadata": {},
   "outputs": [
    {
     "name": "stdout",
     "output_type": "stream",
     "text": [
      "[0.25336651 0.24823174 0.25946353 0.25158618 0.21870243]\n"
     ]
    }
   ],
   "source": [
    "# try random forest regressor\n",
    "rf = RandomForestRegressor(\n",
    "    # hyper parameters\n",
    "    max_depth=100,\n",
    "    max_features='sqrt',\n",
    "    n_estimators=1000,\n",
    "    # train params\n",
    "    n_jobs=16,\n",
    "    verbose=0\n",
    ")\n",
    "\n",
    "rf_r2_scores = cross_val_score(rf, X, Y, cv=5, scoring='r2')\n",
    "print(rf_r2_scores)"
   ]
  },
  {
   "cell_type": "code",
   "execution_count": 6,
   "id": "33f7b804-280d-409f-b32a-1333674b3a66",
   "metadata": {},
   "outputs": [
    {
     "data": {
      "text/plain": [
       "0.24627008001281353"
      ]
     },
     "execution_count": 6,
     "metadata": {},
     "output_type": "execute_result"
    }
   ],
   "source": [
    "np.mean(rf_r2_scores)"
   ]
  },
  {
   "cell_type": "code",
   "execution_count": null,
   "id": "b5344a18-2c5b-41a2-a303-d86ec13df037",
   "metadata": {},
   "outputs": [],
   "source": []
  }
 ],
 "metadata": {
  "kernelspec": {
   "display_name": "Python 3 (ipykernel)",
   "language": "python",
   "name": "python3"
  },
  "language_info": {
   "codemirror_mode": {
    "name": "ipython",
    "version": 3
   },
   "file_extension": ".py",
   "mimetype": "text/x-python",
   "name": "python",
   "nbconvert_exporter": "python",
   "pygments_lexer": "ipython3",
   "version": "3.8.10"
  }
 },
 "nbformat": 4,
 "nbformat_minor": 5
}
