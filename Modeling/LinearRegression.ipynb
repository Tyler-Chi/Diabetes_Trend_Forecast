{
 "cells": [
  {
   "cell_type": "markdown",
   "id": "6f861002-6aa2-47cb-84fa-a526f66da5f5",
   "metadata": {},
   "source": [
    "# Linear Regression"
   ]
  },
  {
   "cell_type": "code",
   "execution_count": 8,
   "id": "31351cdf-ce5a-48f7-9d0c-862df00c1e6e",
   "metadata": {},
   "outputs": [],
   "source": [
    "import numpy as np\n",
    "import pandas as pd\n",
    "from sklearn.linear_model import LinearRegression\n",
    "from sklearn.model_selection import cross_val_score"
   ]
  },
  {
   "cell_type": "code",
   "execution_count": 4,
   "id": "aff72f71-4dfa-47c2-b979-92333cd3e9eb",
   "metadata": {},
   "outputs": [],
   "source": [
    "training_data = pd.read_csv('../Datasets/training_data_full.csv').sample(frac=1) # shuffle"
   ]
  },
  {
   "cell_type": "code",
   "execution_count": 5,
   "id": "4bb21ed5-5dd5-49dc-9a8d-0b132da7ccb7",
   "metadata": {},
   "outputs": [],
   "source": [
    "non_numerical_features = set([\n",
    "    'StateAbbr',\n",
    "    'StateDesc',\n",
    "    'CityName',\n",
    "    'CountyFIPS',\n",
    "    'TractFIPS'\n",
    "])\n",
    "\n",
    "target_features = set([\n",
    "    'DIABETES_3Y_Change_Percentage'\n",
    "])\n",
    "\n",
    "numerical_features = list(\n",
    "    set(training_data.columns) - non_numerical_features - target_features\n",
    ")"
   ]
  },
  {
   "cell_type": "code",
   "execution_count": 6,
   "id": "a916d113-324e-4445-9f61-2c5454e2a05e",
   "metadata": {},
   "outputs": [],
   "source": [
    "features = training_data[numerical_features]\n",
    "labels = training_data['DIABETES_3Y_Change_Percentage']"
   ]
  },
  {
   "cell_type": "code",
   "execution_count": 9,
   "id": "96cbb6c4-5d7d-4158-be44-140a647cb934",
   "metadata": {},
   "outputs": [],
   "source": [
    "scores = cross_val_score(LinearRegression(), features, labels, cv=10, scoring='r2')"
   ]
  },
  {
   "cell_type": "code",
   "execution_count": 11,
   "id": "1213d303-c9ca-44ed-823a-c284bb139196",
   "metadata": {},
   "outputs": [
    {
     "name": "stdout",
     "output_type": "stream",
     "text": [
      "[0.14872159 0.13083361 0.18945345 0.11159531 0.16379971 0.08540639\n",
      " 0.145624   0.15030413 0.14426377 0.14945098]\n"
     ]
    },
    {
     "data": {
      "text/plain": [
       "0.14194529424520913"
      ]
     },
     "execution_count": 11,
     "metadata": {},
     "output_type": "execute_result"
    }
   ],
   "source": [
    "print(scores)\n",
    "scores.mean()"
   ]
  },
  {
   "cell_type": "code",
   "execution_count": null,
   "id": "30950a59-f320-47eb-808d-03c87ca95e5e",
   "metadata": {},
   "outputs": [],
   "source": []
  }
 ],
 "metadata": {
  "kernelspec": {
   "display_name": "Python 3 (ipykernel)",
   "language": "python",
   "name": "python3"
  },
  "language_info": {
   "codemirror_mode": {
    "name": "ipython",
    "version": 3
   },
   "file_extension": ".py",
   "mimetype": "text/x-python",
   "name": "python",
   "nbconvert_exporter": "python",
   "pygments_lexer": "ipython3",
   "version": "3.8.10"
  }
 },
 "nbformat": 4,
 "nbformat_minor": 5
}
