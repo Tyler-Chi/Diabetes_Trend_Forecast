{
 "cells": [
  {
   "cell_type": "markdown",
   "id": "99ecd63a-d9a8-40d6-88c4-5c98c17f025d",
   "metadata": {},
   "source": [
    "# Rerun the models, but with AQI"
   ]
  },
  {
   "cell_type": "code",
   "execution_count": null,
   "id": "037d25e6-3665-4d77-bafa-82de9955d67f",
   "metadata": {},
   "outputs": [],
   "source": [
    "import pandas\n",
    "from sklearn.ensemble import RandomForestRegressor\n",
    "import seaborn as sns\n",
    "import matplotlib.pyplot as plt\n",
    "from sklearn.model_selection import train_test_split\n",
    "from sklearn.model_selection import cross_val_score\n",
    "import numpy as np\n",
    "from xgboost import XGBRegressor\n",
    "import tensorflow as tf\n",
    "%run -i ./Model_Eval.ipynb\n",
    "from keras.callbacks import EarlyStopping\n",
    "tf.get_logger().setLevel('INFO')\n",
    "tf.autograph.set_verbosity(0)\n",
    "import warnings\n",
    "warnings.filterwarnings('ignore')"
   ]
  },
  {
   "cell_type": "code",
   "execution_count": 2,
   "id": "62eb40d6-5eca-46e5-be7c-44bbb7d03581",
   "metadata": {},
   "outputs": [],
   "source": [
    "training_data = pd.read_csv('../Datasets/training_data_with_aqi.csv').sample(frac=1)"
   ]
  },
  {
   "cell_type": "code",
   "execution_count": 3,
   "id": "cbe210a3-373d-418d-a8a7-3a0f5f9f04fe",
   "metadata": {},
   "outputs": [],
   "source": [
    "# import from Model_Eval.ipynb\n",
    "numerical_features = get_numerical_features(training_data)\n",
    "\n",
    "X = training_data[numerical_features]\n",
    "Y = training_data['DIABETES_3Y_Change_Percentage']"
   ]
  },
  {
   "cell_type": "code",
   "execution_count": 4,
   "id": "9364e87f-b0cd-4440-9b6e-94869c4b90ff",
   "metadata": {},
   "outputs": [
    {
     "name": "stdout",
     "output_type": "stream",
     "text": [
      "[0.21184167 0.2690439  0.24393383 0.28159868 0.23095976]\n"
     ]
    }
   ],
   "source": [
    "# try random forest regressor\n",
    "rf = RandomForestRegressor(\n",
    "    # hyper parameters\n",
    "    max_depth=100,\n",
    "    max_features='sqrt',\n",
    "    n_estimators=1000,\n",
    "    # train params\n",
    "    n_jobs=16,\n",
    "    verbose=0\n",
    ")\n",
    "\n",
    "rf_r2_scores = cross_val_score(rf, X, Y, cv=5, scoring='r2')\n",
    "print(rf_r2_scores)"
   ]
  },
  {
   "cell_type": "code",
   "execution_count": 5,
   "id": "33f7b804-280d-409f-b32a-1333674b3a66",
   "metadata": {},
   "outputs": [
    {
     "data": {
      "text/plain": [
       "0.24747556456701303"
      ]
     },
     "execution_count": 5,
     "metadata": {},
     "output_type": "execute_result"
    }
   ],
   "source": [
    "np.mean(rf_r2_scores)"
   ]
  },
  {
   "cell_type": "code",
   "execution_count": 14,
   "id": "b5344a18-2c5b-41a2-a303-d86ec13df037",
   "metadata": {},
   "outputs": [],
   "source": [
    "xgb_model = XGBRegressor(\n",
    "    max_depth=3,\n",
    "    eta=0.1,\n",
    "    n_estimators=1500\n",
    ")\n",
    "\n",
    "xgb_r2_scores = cross_val_score(xgb_model, X, Y, cv=5, scoring='r2')"
   ]
  },
  {
   "cell_type": "code",
   "execution_count": 15,
   "id": "645e1af7-d3a2-435e-838e-f0b9e77cbce0",
   "metadata": {},
   "outputs": [
    {
     "data": {
      "text/plain": [
       "0.22109801800276568"
      ]
     },
     "execution_count": 15,
     "metadata": {},
     "output_type": "execute_result"
    }
   ],
   "source": [
    "np.mean(xgb_r2_scores)"
   ]
  },
  {
   "cell_type": "code",
   "execution_count": null,
   "id": "1b81e056-c710-4a02-b3f5-3f9e3f301695",
   "metadata": {},
   "outputs": [
    {
     "name": "stderr",
     "output_type": "stream",
     "text": [
      " 60%|████████████████████████████████████████████████████████████████████▍                                             | 3/5 [08:57<05:52, 176.05s/it]"
     ]
    }
   ],
   "source": [
    "%run -i Cross_Val_Util.ipynb\n",
    "def build_model(normalizer):\n",
    "    model = tf.keras.Sequential([\n",
    "        normalizer,\n",
    "        tf.keras.layers.Dense(50, activation='relu'),\n",
    "        tf.keras.layers.Dense(45, activation='relu'),\n",
    "        tf.keras.layers.Dense(5, activation='relu'),\n",
    "        tf.keras.layers.Dense(1, activation='linear')\n",
    "    ])\n",
    "\n",
    "    model.compile(\n",
    "        optimizer=\"adam\",\n",
    "        loss=\"mean_squared_error\"\n",
    "    )\n",
    "    return model\n",
    "\n",
    "fit_params = {\n",
    "    'batch_size': 16,\n",
    "    'epochs': 50,\n",
    "    'callbacks': [EarlyStopping(monitor='val_loss', patience=3)],\n",
    "    'verbose': 0\n",
    "}\n",
    "\n",
    "nn_r2_scores = cv_tf_nn(build_model, X, Y, fit_params=fit_params, cv=5)"
   ]
  },
  {
   "cell_type": "code",
   "execution_count": 17,
   "id": "6f09dba0-fd1a-43ee-a371-d050fb055cc6",
   "metadata": {},
   "outputs": [
    {
     "data": {
      "text/plain": [
       "0.23324313703180244"
      ]
     },
     "execution_count": 17,
     "metadata": {},
     "output_type": "execute_result"
    }
   ],
   "source": [
    "np.mean(nn_r2_scores)"
   ]
  },
  {
   "cell_type": "code",
   "execution_count": null,
   "id": "80b8cb87-cdb1-48ce-9157-1a96a01aed31",
   "metadata": {},
   "outputs": [],
   "source": []
  }
 ],
 "metadata": {
  "kernelspec": {
   "display_name": "Python 3 (ipykernel)",
   "language": "python",
   "name": "python3"
  },
  "language_info": {
   "codemirror_mode": {
    "name": "ipython",
    "version": 3
   },
   "file_extension": ".py",
   "mimetype": "text/x-python",
   "name": "python",
   "nbconvert_exporter": "python",
   "pygments_lexer": "ipython3",
   "version": "3.8.10"
  }
 },
 "nbformat": 4,
 "nbformat_minor": 5
}
