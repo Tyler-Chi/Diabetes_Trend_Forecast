{
 "cells": [
  {
   "cell_type": "markdown",
   "id": "0d409a1e-5a6c-4b2d-918c-98611685bdb6",
   "metadata": {},
   "source": [
    "# Use GridSearchCV for hyperparameter tuning"
   ]
  },
  {
   "cell_type": "code",
   "execution_count": 1,
   "id": "c9004983-31e9-472b-9d67-94f24769eaf0",
   "metadata": {},
   "outputs": [],
   "source": [
    "import pandas as pd\n",
    "from sklearn.ensemble import RandomForestRegressor\n",
    "import seaborn as sns\n",
    "import matplotlib.pyplot as plt\n",
    "%matplotlib inline\n",
    "from sklearn.model_selection import train_test_split\n",
    "from sklearn.model_selection import GridSearchCV\n",
    "from sklearn.metrics import r2_score, mean_squared_error, make_scorer"
   ]
  },
  {
   "cell_type": "code",
   "execution_count": 2,
   "id": "10d55d17-8636-45e3-9fab-fc7797ee4c32",
   "metadata": {},
   "outputs": [],
   "source": [
    "training_data = pd.read_csv('../Datasets/training_data_full.csv')"
   ]
  },
  {
   "cell_type": "code",
   "execution_count": 3,
   "id": "083b0771-d978-4bd0-8d12-3431376cf68c",
   "metadata": {
    "tags": []
   },
   "outputs": [],
   "source": [
    "non_numerical_features = set([\n",
    "    'StateAbbr',\n",
    "    'StateDesc',\n",
    "    'CityName',\n",
    "    'CountyFIPS',\n",
    "    'TractFIPS'\n",
    "])\n",
    "\n",
    "target_features = set([\n",
    "    'DIABETES_3Y_Change_Percentage'\n",
    "])\n",
    "\n",
    "numerical_features = list(\n",
    "    set(training_data.columns) - non_numerical_features - target_features\n",
    ")"
   ]
  },
  {
   "cell_type": "code",
   "execution_count": 4,
   "id": "d1e084f2-93b3-45f7-bcb6-7190e4d0ae06",
   "metadata": {},
   "outputs": [],
   "source": [
    "features = training_data[numerical_features]\n",
    "labels = training_data['DIABETES_3Y_Change_Percentage']"
   ]
  },
  {
   "cell_type": "code",
   "execution_count": 5,
   "id": "f60a9855-c115-4f7c-91de-66261293e506",
   "metadata": {},
   "outputs": [],
   "source": [
    "num_features = len(features)"
   ]
  },
  {
   "cell_type": "code",
   "execution_count": 6,
   "id": "5212e88f-037c-4033-9ccd-090632dddc6d",
   "metadata": {},
   "outputs": [],
   "source": [
    "parameters = {\n",
    "    'max_depth': [1, 5, 20, 50, 100],\n",
    "    'n_estimators': [100, 500, 1000, 1500],\n",
    "    'max_features': ['sqrt', 'log2', 1, 3, 5, 10]\n",
    "}"
   ]
  },
  {
   "cell_type": "code",
   "execution_count": 7,
   "id": "b0f8505f-9e57-47c9-85aa-7f712e7bdbf1",
   "metadata": {},
   "outputs": [],
   "source": [
    "rf = RandomForestRegressor(random_state = 42)"
   ]
  },
  {
   "cell_type": "code",
   "execution_count": 8,
   "id": "a504a01f-40b0-4830-89e1-b33f3b3afb8c",
   "metadata": {},
   "outputs": [],
   "source": [
    "grid_search = GridSearchCV(\n",
    "    estimator=rf,\n",
    "    param_grid=parameters,\n",
    "    cv=5,\n",
    "    n_jobs=8,\n",
    ")"
   ]
  },
  {
   "cell_type": "code",
   "execution_count": null,
   "id": "8e32809e-f01d-4240-9828-ce8a77423128",
   "metadata": {
    "scrolled": true,
    "tags": []
   },
   "outputs": [
    {
     "name": "stderr",
     "output_type": "stream",
     "text": [
      "/home/tychi/.local/lib/python3.8/site-packages/joblib/externals/loky/process_executor.py:700: UserWarning: A worker stopped while some jobs were given to the executor. This can be caused by a too short worker timeout or by a memory leak.\n",
      "  warnings.warn(\n"
     ]
    }
   ],
   "source": [
    "grid_search.fit(features, labels)"
   ]
  },
  {
   "cell_type": "code",
   "execution_count": null,
   "id": "1b5a27ae-3855-40a1-a0f6-8a02b22a3d9a",
   "metadata": {},
   "outputs": [],
   "source": [
    "grid_search.best_params_"
   ]
  },
  {
   "cell_type": "code",
   "execution_count": null,
   "id": "f4935598-22b1-406f-9474-834249d19a45",
   "metadata": {},
   "outputs": [],
   "source": [
    "grid_search.best_score_"
   ]
  },
  {
   "cell_type": "markdown",
   "id": "54a3f9a9-0139-4fb6-ad2c-8e822ee98a90",
   "metadata": {},
   "source": [
    "# Fine tune, in the vicinity of the best parameters from previous grid search"
   ]
  },
  {
   "cell_type": "code",
   "execution_count": null,
   "id": "eb394958-06ca-4bc0-8cc9-9b51148d81a6",
   "metadata": {},
   "outputs": [],
   "source": [
    "rf = RandomForestRegressor(random_state = 42)\n",
    "\n",
    "parameters = {\n",
    "    'max_depth': [23, 25, 30, 35, 40],\n",
    "    'n_estimators': [1000, 1200, 1400],\n",
    "    'max_features': [1,2]\n",
    "}\n",
    "\n",
    "grid_search = GridSearchCV(\n",
    "    estimator=rf,\n",
    "    param_grid=parameters,\n",
    "    cv=5,\n",
    "    n_jobs=8,\n",
    ")\n",
    "\n",
    "grid_search.fit(features, labels)"
   ]
  },
  {
   "cell_type": "code",
   "execution_count": null,
   "id": "5cbc3bfb-45a8-4803-96dd-ae526a220fdf",
   "metadata": {},
   "outputs": [],
   "source": [
    "grid_search.best_params_"
   ]
  },
  {
   "cell_type": "code",
   "execution_count": null,
   "id": "76e19f4d-d13e-4ac7-99cd-3168fd1d76a9",
   "metadata": {},
   "outputs": [],
   "source": []
  }
 ],
 "metadata": {
  "kernelspec": {
   "display_name": "Python 3 (ipykernel)",
   "language": "python",
   "name": "python3"
  },
  "language_info": {
   "codemirror_mode": {
    "name": "ipython",
    "version": 3
   },
   "file_extension": ".py",
   "mimetype": "text/x-python",
   "name": "python",
   "nbconvert_exporter": "python",
   "pygments_lexer": "ipython3",
   "version": "3.8.10"
  }
 },
 "nbformat": 4,
 "nbformat_minor": 5
}
